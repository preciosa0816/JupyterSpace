{
 "cells": [
  {
   "cell_type": "code",
   "execution_count": 44,
   "metadata": {},
   "outputs": [
    {
     "name": "stdout",
     "output_type": "stream",
     "text": [
      "[타자게임] 준비되면 엔터!\n",
      "\n",
      "*문제 1\n",
      "snake\n",
      ">>snake\n",
      "통과\n",
      "*문제 2\n",
      "panda\n",
      ">>panda\n",
      "통과\n",
      "*문제 3\n",
      "dog\n",
      ">>dog\n",
      "통과\n",
      "*문제 4\n",
      "monkey\n",
      ">>monkey\n",
      "통과\n",
      "*문제 5\n",
      "cat\n",
      ">>cat\n",
      "통과\n",
      "타자 시간: 7.2초\n"
     ]
    }
   ],
   "source": [
    "import random\n",
    "import time\n",
    "print(\"[타자게임] 준비되면 엔터!\" )\n",
    "input()\n",
    "s=time.time()\n",
    "list=['cat','dog',\"fox\",\"monkey\",\"mouse\",\"panda\",\"frog\",\"snake\",\"wolf\"]\n",
    "for i in range(5):\n",
    "    print(\"*문제 \"+str(i+1))\n",
    "    a=random.choice(list)\n",
    "    print(a)\n",
    "    result=input(\">>\")\n",
    "    if str(a)==str(result):\n",
    "        print(\"통과\")\n",
    "    else:\n",
    "        print(a)\n",
    "        result=input(\">>\")\n",
    "e=time.time()\n",
    "f=round(e,2)-round(s,2)\n",
    "f=round(f,2)\n",
    "print(\"타자 시간: \"+str(f)+\"초\")\n",
    "        "
   ]
  },
  {
   "cell_type": "code",
   "execution_count": 38,
   "metadata": {},
   "outputs": [
    {
     "name": "stdout",
     "output_type": "stream",
     "text": [
      "1573109474.1092453\n",
      "1573109474.11\n"
     ]
    }
   ],
   "source": [
    "s=time.time()\n",
    "print(s)\n",
    "print(round(s,2))"
   ]
  }
 ],
 "metadata": {
  "kernelspec": {
   "display_name": "Python 3",
   "language": "python",
   "name": "python3"
  },
  "language_info": {
   "codemirror_mode": {
    "name": "ipython",
    "version": 3
   },
   "file_extension": ".py",
   "mimetype": "text/x-python",
   "name": "python",
   "nbconvert_exporter": "python",
   "pygments_lexer": "ipython3",
   "version": "3.6.5"
  }
 },
 "nbformat": 4,
 "nbformat_minor": 2
}
