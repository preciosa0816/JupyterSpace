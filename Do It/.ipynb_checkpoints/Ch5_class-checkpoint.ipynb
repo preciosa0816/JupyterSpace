{
 "cells": [
  {
   "cell_type": "markdown",
   "metadata": {},
   "source": [
    "# Ch05.class_module_package_exception_bulti-in function/external function"
   ]
  },
  {
   "cell_type": "code",
   "execution_count": null,
   "metadata": {},
   "outputs": [],
   "source": [
    "## Ch05-1.Class"
   ]
  },
  {
   "cell_type": "code",
   "execution_count": null,
   "metadata": {},
   "outputs": [],
   "source": [
    "# Class: 틀\n",
    "# 클래스를 통해서 만들어 진 것: 객체"
   ]
  },
  {
   "cell_type": "code",
   "execution_count": 2,
   "metadata": {},
   "outputs": [
    {
     "name": "stdout",
     "output_type": "stream",
     "text": [
      "3\n",
      "7\n"
     ]
    }
   ],
   "source": [
    "# 클래스가 등장하기 전의 함수\n",
    "result=0\n",
    "def add(num):\n",
    "    global result\n",
    "    result+=num\n",
    "    return result\n",
    "\n",
    "print(add(3))\n",
    "print(add(4))"
   ]
  },
  {
   "cell_type": "code",
   "execution_count": 5,
   "metadata": {},
   "outputs": [
    {
     "name": "stdout",
     "output_type": "stream",
     "text": [
      "3\n",
      "7\n",
      "3\n",
      "7\n"
     ]
    }
   ],
   "source": [
    "result1=0\n",
    "result2=0\n",
    "\n",
    "def add1(num):\n",
    "    global result1\n",
    "    result1+=num\n",
    "    return result1\n",
    "\n",
    "#여러개 계산기가\n",
    "def add2(num):\n",
    "    global result2\n",
    "    result2+=num\n",
    "    return result2\n",
    "print(add1(3))\n",
    "print(add1(4))\n",
    "print(add2(3))\n",
    "print(add2(4))"
   ]
  },
  {
   "cell_type": "code",
   "execution_count": 11,
   "metadata": {},
   "outputs": [
    {
     "name": "stdout",
     "output_type": "stream",
     "text": [
      "3\n",
      "7\n",
      "3\n",
      "7\n",
      "3\n"
     ]
    }
   ],
   "source": [
    "# 위 내용을 클래스 형태로 바꾸기\n",
    "class Calculator:\n",
    "    \n",
    "    def __init__(self): #생성자\n",
    "        self.result=0\n",
    "    def add(self,num):\n",
    "        self.result+=num\n",
    "        return self.result    \n",
    "    def sub(self,num):\n",
    "        self.result-=num\n",
    "        return self.result  \n",
    "\n",
    "cal1=Calculator()\n",
    "cal2=Calculator()\n",
    "print(cal1.add(3))\n",
    "print(cal1.add(4))\n",
    "print(cal2.add(3))\n",
    "print(cal2.add(4))\n",
    "print(cal2.sub(4))"
   ]
  },
  {
   "cell_type": "code",
   "execution_count": 10,
   "metadata": {},
   "outputs": [
    {
     "name": "stdout",
     "output_type": "stream",
     "text": [
      "<__main__.Programmer object at 0x00000009BF8EFCF8>\n"
     ]
    }
   ],
   "source": [
    "#클래스에서 가장 간단한 형태\n",
    "class Programmer:\n",
    "    pass\n",
    "\n",
    "hong = Programmer()\n",
    "print(hong)\n"
   ]
  },
  {
   "cell_type": "markdown",
   "metadata": {},
   "source": [
    "## 사칙연산 클래스 만들기"
   ]
  },
  {
   "cell_type": "code",
   "execution_count": 52,
   "metadata": {},
   "outputs": [],
   "source": [
    "class FourCal:\n",
    "    def setdata(self, first, second): # ① 메서드의 매개변수\n",
    "        self.first=first # ② 메서드의 수행문\n",
    "        self.second=second # ② 메서드의 수행문\n",
    "    def add(self):\n",
    "        result=self.first+self.second\n",
    "        return result\n",
    "    def sub(self):\n",
    "        result=self.first-self.second\n",
    "        return result\n",
    "    def mul(self):\n",
    "        result=self.first*self.second\n",
    "        return result\n",
    "    def div(self):\n",
    "        result=self.first/self.second\n",
    "        return result"
   ]
  },
  {
   "cell_type": "code",
   "execution_count": 17,
   "metadata": {},
   "outputs": [
    {
     "data": {
      "text/plain": [
       "__main__.FourCal"
      ]
     },
     "execution_count": 17,
     "metadata": {},
     "output_type": "execute_result"
    }
   ],
   "source": [
    "a = FourCal()\n",
    "type(a)"
   ]
  },
  {
   "cell_type": "code",
   "execution_count": 23,
   "metadata": {},
   "outputs": [
    {
     "name": "stdout",
     "output_type": "stream",
     "text": [
      "4\n",
      "2\n",
      "6\n",
      "8\n",
      "2\n",
      "2.0\n",
      "=================================\n",
      "3\n",
      "9\n",
      "12\n",
      "27\n",
      "-6\n",
      "0.3333333333333333\n"
     ]
    }
   ],
   "source": [
    "a = FourCal()\n",
    "b=FourCal()\n",
    "a.setdata(4, 2) \n",
    "b.setdata(3,9)\n",
    "print(a.first)\n",
    "print(a.second)\n",
    "print(a.add())\n",
    "print(a.mul())  \n",
    "print(a.sub()) \n",
    "print(a.div()) \n",
    "print(\"=================================\")\n",
    "print(b.first)\n",
    "print(b.second)\n",
    "print(b.add())\n",
    "print(b.mul())  \n",
    "print(b.sub()) \n",
    "print(b.div()) "
   ]
  },
  {
   "cell_type": "markdown",
   "metadata": {},
   "source": [
    "## 생성자 (Constructor)"
   ]
  },
  {
   "cell_type": "code",
   "execution_count": 31,
   "metadata": {},
   "outputs": [],
   "source": [
    "class FourCal:\n",
    "    def __init__(self, first, second):\n",
    "        self.first = first\n",
    "        self.second = second\n",
    "   # def setdata(self, first, second): # ① 메서드의 매개변수\n",
    "    #    self.first=first # ② 메서드의 수행문\n",
    "     #   self.second=second # ② 메서드의 수행문\n",
    "    def add(self):\n",
    "        result=self.first+self.second\n",
    "        return result\n",
    "    def sub(self):\n",
    "        result=self.first-self.second\n",
    "        return result\n",
    "    def mul(self):\n",
    "        result=self.first*self.second\n",
    "        return result\n",
    "    def div(self):\n",
    "        result=self.first/self.second\n",
    "        return result"
   ]
  },
  {
   "cell_type": "code",
   "execution_count": 40,
   "metadata": {},
   "outputs": [
    {
     "name": "stdout",
     "output_type": "stream",
     "text": [
      "4\n",
      "2\n",
      "6\n",
      "8\n",
      "2\n",
      "2.0\n"
     ]
    }
   ],
   "source": [
    "a = FourCal(4, 2)\n",
    "print(a.first)\n",
    "print(a.second)\n",
    "print(a.add())\n",
    "print(a.mul())  \n",
    "print(a.sub()) \n",
    "print(a.div()) "
   ]
  },
  {
   "cell_type": "code",
   "execution_count": 43,
   "metadata": {},
   "outputs": [],
   "source": [
    "# 방법 2:setdata()매게변수 : 여기서는 2개 값만 전달\n",
    "a=FourCal()\n",
    "a.setdata(4,2)"
   ]
  },
  {
   "cell_type": "code",
   "execution_count": 51,
   "metadata": {},
   "outputs": [],
   "source": [
    "#방법3:: setdata(a,b,c)\n",
    "a=FourCal()\n",
    "FourCal.setdata(a,4,2)"
   ]
  },
  {
   "cell_type": "code",
   "execution_count": 57,
   "metadata": {},
   "outputs": [
    {
     "name": "stdout",
     "output_type": "stream",
     "text": [
      "1716481184\n",
      "1716481120\n",
      "1716481184\n",
      "1716481280\n",
      "41776982560\n",
      "41776982672\n"
     ]
    }
   ],
   "source": [
    "#주소값 확인::id()\n",
    "a=FourCal()\n",
    "b=FourCal()\n",
    "a.setdata(4,2)\n",
    "b.setdata(4,7)\n",
    "print(id(a.first))#\n",
    "print(id(a.second))\n",
    "print(id(b.first))# 같은 값 같은주소값\n",
    "print(id(b.second))\n",
    "print(id(a))\n",
    "print(id(b))"
   ]
  },
  {
   "cell_type": "markdown",
   "metadata": {},
   "source": [
    "## 클래스의 상속"
   ]
  },
  {
   "cell_type": "code",
   "execution_count": 34,
   "metadata": {},
   "outputs": [
    {
     "name": "stdout",
     "output_type": "stream",
     "text": [
      "6\n",
      "16\n"
     ]
    }
   ],
   "source": [
    "class MoreFourCal(FourCal):\n",
    "    def pow(self):\n",
    "        result = self.first ** self.second\n",
    "        return result\n",
    "a = MoreFourCal(4, 2)\n",
    "print(a.add())\n",
    "print(a.pow())"
   ]
  },
  {
   "cell_type": "markdown",
   "metadata": {},
   "source": [
    "## 메서드 오버라이딩"
   ]
  },
  {
   "cell_type": "code",
   "execution_count": 38,
   "metadata": {},
   "outputs": [
    {
     "ename": "ZeroDivisionError",
     "evalue": "division by zero",
     "output_type": "error",
     "traceback": [
      "\u001b[1;31m---------------------------------------------------------------------------\u001b[0m",
      "\u001b[1;31mZeroDivisionError\u001b[0m                         Traceback (most recent call last)",
      "\u001b[1;32m<ipython-input-38-5e9b2f546e11>\u001b[0m in \u001b[0;36m<module>\u001b[1;34m()\u001b[0m\n\u001b[0;32m      1\u001b[0m \u001b[0ma\u001b[0m \u001b[1;33m=\u001b[0m \u001b[0mFourCal\u001b[0m\u001b[1;33m(\u001b[0m\u001b[1;36m4\u001b[0m\u001b[1;33m,\u001b[0m \u001b[1;36m0\u001b[0m\u001b[1;33m)\u001b[0m\u001b[1;33m\u001b[0m\u001b[0m\n\u001b[1;32m----> 2\u001b[1;33m \u001b[0ma\u001b[0m\u001b[1;33m.\u001b[0m\u001b[0mdiv\u001b[0m\u001b[1;33m(\u001b[0m\u001b[1;33m)\u001b[0m\u001b[1;33m\u001b[0m\u001b[0m\n\u001b[0m",
      "\u001b[1;32m<ipython-input-31-723508e028c2>\u001b[0m in \u001b[0;36mdiv\u001b[1;34m(self)\u001b[0m\n\u001b[0;32m     16\u001b[0m         \u001b[1;32mreturn\u001b[0m \u001b[0mresult\u001b[0m\u001b[1;33m\u001b[0m\u001b[0m\n\u001b[0;32m     17\u001b[0m     \u001b[1;32mdef\u001b[0m \u001b[0mdiv\u001b[0m\u001b[1;33m(\u001b[0m\u001b[0mself\u001b[0m\u001b[1;33m)\u001b[0m\u001b[1;33m:\u001b[0m\u001b[1;33m\u001b[0m\u001b[0m\n\u001b[1;32m---> 18\u001b[1;33m         \u001b[0mresult\u001b[0m\u001b[1;33m=\u001b[0m\u001b[0mself\u001b[0m\u001b[1;33m.\u001b[0m\u001b[0mfirst\u001b[0m\u001b[1;33m/\u001b[0m\u001b[0mself\u001b[0m\u001b[1;33m.\u001b[0m\u001b[0msecond\u001b[0m\u001b[1;33m\u001b[0m\u001b[0m\n\u001b[0m\u001b[0;32m     19\u001b[0m         \u001b[1;32mreturn\u001b[0m \u001b[0mresult\u001b[0m\u001b[1;33m\u001b[0m\u001b[0m\n",
      "\u001b[1;31mZeroDivisionError\u001b[0m: division by zero"
     ]
    }
   ],
   "source": [
    "a = FourCal(4, 0)\n",
    "a.div()"
   ]
  },
  {
   "cell_type": "code",
   "execution_count": 37,
   "metadata": {},
   "outputs": [],
   "source": [
    "class SafeFourCal(FourCal):\n",
    "     def div(self):\n",
    "            if self.second == 0:  # 나누는 값이 0인 경우 0을 리턴하도록 수정             return 0\n",
    "                return 0\n",
    "            else:\n",
    "                return self.first / self.second"
   ]
  },
  {
   "cell_type": "code",
   "execution_count": 39,
   "metadata": {},
   "outputs": [
    {
     "data": {
      "text/plain": [
       "0"
      ]
     },
     "execution_count": 39,
     "metadata": {},
     "output_type": "execute_result"
    }
   ],
   "source": [
    "a = SafeFourCal(4, 0)\n",
    "a.div()"
   ]
  },
  {
   "cell_type": "markdown",
   "metadata": {},
   "source": [
    "## 클래스 변수"
   ]
  },
  {
   "cell_type": "code",
   "execution_count": 46,
   "metadata": {},
   "outputs": [
    {
     "name": "stdout",
     "output_type": "stream",
     "text": [
      "김\n"
     ]
    }
   ],
   "source": [
    "# class variable(자바:static변수)-공유, 클래스명.변수이름\n",
    "# instance variable(자바:객체생성):참조변수.변수이름\n",
    "class Family:\n",
    "     lastname = \"김\"\n",
    "print(Family.lastname)"
   ]
  },
  {
   "cell_type": "code",
   "execution_count": 47,
   "metadata": {},
   "outputs": [
    {
     "name": "stdout",
     "output_type": "stream",
     "text": [
      "김\n",
      "김\n"
     ]
    }
   ],
   "source": [
    "a = Family()\n",
    "b = Family()\n",
    "print(a.lastname)\n",
    "print(b.lastname)"
   ]
  },
  {
   "cell_type": "code",
   "execution_count": 48,
   "metadata": {},
   "outputs": [
    {
     "name": "stdout",
     "output_type": "stream",
     "text": [
      "박\n",
      "박\n"
     ]
    }
   ],
   "source": [
    "Family.lastname = \"박\"\n",
    "print(a.lastname)\n",
    "print(b.lastname)"
   ]
  },
  {
   "cell_type": "code",
   "execution_count": 50,
   "metadata": {},
   "outputs": [
    {
     "name": "stdout",
     "output_type": "stream",
     "text": [
      "41777060880\n",
      "41777060880\n"
     ]
    }
   ],
   "source": [
    "id(Family.lastname)\n",
    "print(id(a.lastname))\n",
    "print(id(b.lastname))"
   ]
  },
  {
   "cell_type": "code",
   "execution_count": null,
   "metadata": {},
   "outputs": [],
   "source": []
  },
  {
   "cell_type": "code",
   "execution_count": 3,
   "metadata": {},
   "outputs": [],
   "source": [
    "import numpy as np\n",
    "a=np.random.randn(100,100)\n"
   ]
  },
  {
   "cell_type": "code",
   "execution_count": 4,
   "metadata": {},
   "outputs": [
    {
     "name": "stdout",
     "output_type": "stream",
     "text": [
      "77.4 µs ± 13.1 µs per loop (mean ± std. dev. of 7 runs, 1 loop each)\n"
     ]
    }
   ],
   "source": [
    "%timeit np.dot(a,a)"
   ]
  },
  {
   "cell_type": "code",
   "execution_count": 5,
   "metadata": {},
   "outputs": [],
   "source": [
    "%debug?"
   ]
  },
  {
   "cell_type": "markdown",
   "metadata": {},
   "source": [
    "## 05-2. Module"
   ]
  },
  {
   "cell_type": "code",
   "execution_count": null,
   "metadata": {},
   "outputs": [],
   "source": [
    "#모듈: 함수나 변수 또는 클래스를 모아놓은 파일\n",
    "#만든 모듈 불러오기"
   ]
  },
  {
   "cell_type": "code",
   "execution_count": 1,
   "metadata": {},
   "outputs": [],
   "source": [
    "# mod1.py\n",
    "def add(a, b):\n",
    "    return a + b\n",
    "\n",
    "def sub(a, b): \n",
    "    return a-b"
   ]
  },
  {
   "cell_type": "code",
   "execution_count": 4,
   "metadata": {},
   "outputs": [
    {
     "name": "stdout",
     "output_type": "stream",
     "text": [
      "7\n",
      "2\n"
     ]
    }
   ],
   "source": [
    "import mod1 #mod1.py 을 불러옴 \n",
    "print(mod1.add(3,4))\n",
    "print(mod1.sub(4, 2))"
   ]
  },
  {
   "cell_type": "code",
   "execution_count": 18,
   "metadata": {},
   "outputs": [
    {
     "name": "stdout",
     "output_type": "stream",
     "text": [
      "7\n",
      "10\n"
     ]
    }
   ],
   "source": [
    "from mod1 import add\n",
    "print(add(3, 4))\n",
    "#add(3, 4)\n",
    "from mod1 import add,sub\n",
    "print(add(5,5))"
   ]
  },
  {
   "cell_type": "code",
   "execution_count": 19,
   "metadata": {},
   "outputs": [
    {
     "name": "stdout",
     "output_type": "stream",
     "text": [
      "7\n",
      "2\n"
     ]
    }
   ],
   "source": [
    "from mod1 import *\n",
    "print(add(3, 4))\n",
    "print(sub(4, 2))"
   ]
  },
  {
   "cell_type": "code",
   "execution_count": 21,
   "metadata": {},
   "outputs": [],
   "source": [
    "#if__name__==\"__main__\":'\n",
    "import mod1 #함수만 호출 "
   ]
  },
  {
   "cell_type": "code",
   "execution_count": 4,
   "metadata": {},
   "outputs": [
    {
     "name": "stdout",
     "output_type": "stream",
     "text": [
      "3.141592\n",
      "12.566368\n",
      "7.5415920000000005\n"
     ]
    }
   ],
   "source": [
    "#class or variable 등을 포함한 모듈\n",
    "import mod2\n",
    "print(mod2.PI)\n",
    "\n",
    "a=mod2.Math()\n",
    "print(a.solv(2))\n",
    "\n",
    "print(mod2.add(mod2.PI, 4.4))"
   ]
  },
  {
   "cell_type": "code",
   "execution_count": 7,
   "metadata": {},
   "outputs": [
    {
     "data": {
      "text/plain": [
       "['',\n",
       " 'C:\\\\ProgramData\\\\Anaconda3\\\\python36.zip',\n",
       " 'C:\\\\ProgramData\\\\Anaconda3\\\\DLLs',\n",
       " 'C:\\\\ProgramData\\\\Anaconda3\\\\lib',\n",
       " 'C:\\\\ProgramData\\\\Anaconda3',\n",
       " 'C:\\\\ProgramData\\\\Anaconda3\\\\lib\\\\site-packages',\n",
       " 'C:\\\\ProgramData\\\\Anaconda3\\\\lib\\\\site-packages\\\\win32',\n",
       " 'C:\\\\ProgramData\\\\Anaconda3\\\\lib\\\\site-packages\\\\win32\\\\lib',\n",
       " 'C:\\\\ProgramData\\\\Anaconda3\\\\lib\\\\site-packages\\\\Pythonwin',\n",
       " 'C:\\\\ProgramData\\\\Anaconda3\\\\lib\\\\site-packages\\\\IPython\\\\extensions',\n",
       " 'C:\\\\Users\\\\wnddkd\\\\.ipython',\n",
       " 'C:/JupyerSpace/do it/mymod']"
      ]
     },
     "execution_count": 7,
     "metadata": {},
     "output_type": "execute_result"
    }
   ],
   "source": [
    "# 다른 파일에서 모듈을 불러오기\n",
    "import sys\n",
    "sys.path"
   ]
  },
  {
   "cell_type": "code",
   "execution_count": 6,
   "metadata": {},
   "outputs": [],
   "source": [
    "sys.path.append(\"C:/JupyerSpace/do it/mymod\")"
   ]
  },
  {
   "cell_type": "code",
   "execution_count": 9,
   "metadata": {},
   "outputs": [
    {
     "name": "stdout",
     "output_type": "stream",
     "text": [
      "7\n"
     ]
    }
   ],
   "source": [
    "import mod2\n",
    "print(mod2.add(3,4))"
   ]
  },
  {
   "cell_type": "code",
   "execution_count": 14,
   "metadata": {},
   "outputs": [
    {
     "ename": "SyntaxError",
     "evalue": "invalid syntax (<ipython-input-14-f1f4b0b20cfb>, line 2)",
     "output_type": "error",
     "traceback": [
      "\u001b[1;36m  File \u001b[1;32m\"<ipython-input-14-f1f4b0b20cfb>\"\u001b[1;36m, line \u001b[1;32m2\u001b[0m\n\u001b[1;33m    set PYTHONPATH=\"C:/JupyterSpace/do it/mymod2\"\u001b[0m\n\u001b[1;37m                 ^\u001b[0m\n\u001b[1;31mSyntaxError\u001b[0m\u001b[1;31m:\u001b[0m invalid syntax\n"
     ]
    }
   ],
   "source": [
    "#pythonpath 환경변수 사용하기\n",
    "set PYTHONPATH=C:/JupyterSpace/do it/mymod2\n",
    "import mod22\n",
    "print(mod22.add(3,4))"
   ]
  },
  {
   "cell_type": "markdown",
   "metadata": {},
   "source": [
    "## 05-4.Exception"
   ]
  },
  {
   "cell_type": "code",
   "execution_count": 11,
   "metadata": {},
   "outputs": [
    {
     "name": "stdout",
     "output_type": "stream",
     "text": [
      "[Errno 2] No such file or directory: 'asdf.txt'\n"
     ]
    }
   ],
   "source": [
    "try:\n",
    "    f=open(\"asdf.txt\",'r',encoding=\"utf-8\")\n",
    "except FileNotFoundError as e:\n",
    "    print(e)"
   ]
  },
  {
   "cell_type": "code",
   "execution_count": 12,
   "metadata": {},
   "outputs": [
    {
     "name": "stdout",
     "output_type": "stream",
     "text": [
      "division by zero\n"
     ]
    }
   ],
   "source": [
    "try:\n",
    "    4/0\n",
    "except ZeroDivisionError as e:\n",
    "    print(e)"
   ]
  },
  {
   "cell_type": "code",
   "execution_count": 14,
   "metadata": {},
   "outputs": [
    {
     "name": "stdout",
     "output_type": "stream",
     "text": [
      "list index out of range\n"
     ]
    }
   ],
   "source": [
    "try:\n",
    "    a = [1,2,3]\n",
    "    a[4]\n",
    "except IndexError as e:\n",
    "    print(e)"
   ]
  },
  {
   "cell_type": "code",
   "execution_count": 21,
   "metadata": {},
   "outputs": [
    {
     "name": "stdout",
     "output_type": "stream",
     "text": [
      "list index out of range\n"
     ]
    }
   ],
   "source": [
    "try:\n",
    "    a=[1.2]\n",
    "    print(a[3])\n",
    "    4/0\n",
    "except (ZeroDivisionError, IndexError) as e:\n",
    "    print(e)\n"
   ]
  },
  {
   "cell_type": "code",
   "execution_count": 22,
   "metadata": {},
   "outputs": [
    {
     "name": "stdout",
     "output_type": "stream",
     "text": [
      "[Errno 2] No such file or directory: 'noexist.txt'\n"
     ]
    }
   ],
   "source": [
    "#오류 회피하기\n",
    "try:\n",
    "    f=open(\"noexist.txt\",'r',encoding=\"utf-8\")\n",
    "except FileNotFoundError as e:\n",
    "    print(e)"
   ]
  },
  {
   "cell_type": "code",
   "execution_count": 32,
   "metadata": {},
   "outputs": [
    {
     "ename": "NotImplementedError",
     "evalue": "",
     "output_type": "error",
     "traceback": [
      "\u001b[1;31m---------------------------------------------------------------------------\u001b[0m",
      "\u001b[1;31mNotImplementedError\u001b[0m                       Traceback (most recent call last)",
      "\u001b[1;32m<ipython-input-32-c4b4d55cb219>\u001b[0m in \u001b[0;36m<module>\u001b[1;34m()\u001b[0m\n\u001b[0;32m      8\u001b[0m \u001b[1;33m\u001b[0m\u001b[0m\n\u001b[0;32m      9\u001b[0m \u001b[0meagle\u001b[0m\u001b[1;33m=\u001b[0m\u001b[0mEagle\u001b[0m\u001b[1;33m(\u001b[0m\u001b[1;33m)\u001b[0m\u001b[1;33m\u001b[0m\u001b[0m\n\u001b[1;32m---> 10\u001b[1;33m \u001b[0meagle\u001b[0m\u001b[1;33m.\u001b[0m\u001b[0mfly\u001b[0m\u001b[1;33m(\u001b[0m\u001b[1;33m)\u001b[0m \u001b[1;31m#NotImplementedError:\u001b[0m\u001b[1;33m\u001b[0m\u001b[0m\n\u001b[0m",
      "\u001b[1;32m<ipython-input-32-c4b4d55cb219>\u001b[0m in \u001b[0;36mfly\u001b[1;34m(self)\u001b[0m\n\u001b[0;32m      2\u001b[0m \u001b[1;32mclass\u001b[0m \u001b[0mbird\u001b[0m\u001b[1;33m:\u001b[0m\u001b[1;33m\u001b[0m\u001b[0m\n\u001b[0;32m      3\u001b[0m     \u001b[1;32mdef\u001b[0m \u001b[0mfly\u001b[0m\u001b[1;33m(\u001b[0m\u001b[0mself\u001b[0m\u001b[1;33m)\u001b[0m\u001b[1;33m:\u001b[0m\u001b[1;33m\u001b[0m\u001b[0m\n\u001b[1;32m----> 4\u001b[1;33m         \u001b[1;32mraise\u001b[0m \u001b[0mNotImplementedError\u001b[0m\u001b[1;33m\u001b[0m\u001b[0m\n\u001b[0m\u001b[0;32m      5\u001b[0m \u001b[1;33m\u001b[0m\u001b[0m\n\u001b[0;32m      6\u001b[0m \u001b[1;32mclass\u001b[0m \u001b[0mEagle\u001b[0m\u001b[1;33m(\u001b[0m\u001b[0mbird\u001b[0m\u001b[1;33m)\u001b[0m\u001b[1;33m:\u001b[0m\u001b[1;33m\u001b[0m\u001b[0m\n",
      "\u001b[1;31mNotImplementedError\u001b[0m: "
     ]
    }
   ],
   "source": [
    "#오류 일부러 발생시키기\n",
    "class bird:\n",
    "    def fly(self):\n",
    "        raise NotImplementedError\n",
    "        \n",
    "class Eagle(bird):\n",
    "    pass\n",
    "\n",
    "eagle=Eagle()\n",
    "eagle.fly() #NotImplementedError:         "
   ]
  },
  {
   "cell_type": "code",
   "execution_count": 33,
   "metadata": {},
   "outputs": [
    {
     "name": "stdout",
     "output_type": "stream",
     "text": [
      "very fast\n"
     ]
    }
   ],
   "source": [
    "#오류없이 정상출력\n",
    "class bird:\n",
    "    def fly(self):\n",
    "        raise NotImplementedError\n",
    "        \n",
    "class Eagle(bird):\n",
    "    def fly(self):\n",
    "        print(\"very fast\")\n",
    "        \n",
    "eagle=Eagle()\n",
    "eagle.fly() "
   ]
  },
  {
   "cell_type": "code",
   "execution_count": 35,
   "metadata": {},
   "outputs": [
    {
     "name": "stdout",
     "output_type": "stream",
     "text": [
      "babo\n"
     ]
    },
    {
     "ename": "MyError",
     "evalue": "",
     "output_type": "error",
     "traceback": [
      "\u001b[1;31m---------------------------------------------------------------------------\u001b[0m",
      "\u001b[1;31mMyError\u001b[0m                                   Traceback (most recent call last)",
      "\u001b[1;32m<ipython-input-35-f104253406b4>\u001b[0m in \u001b[0;36m<module>\u001b[1;34m()\u001b[0m\n\u001b[0;32m      9\u001b[0m \u001b[1;33m\u001b[0m\u001b[0m\n\u001b[0;32m     10\u001b[0m \u001b[0msay_nick\u001b[0m\u001b[1;33m(\u001b[0m\u001b[1;34m'babo'\u001b[0m\u001b[1;33m)\u001b[0m\u001b[1;33m\u001b[0m\u001b[0m\n\u001b[1;32m---> 11\u001b[1;33m \u001b[0msay_nick\u001b[0m\u001b[1;33m(\u001b[0m\u001b[1;34m'stupid'\u001b[0m\u001b[1;33m)\u001b[0m\u001b[1;33m\u001b[0m\u001b[0m\n\u001b[0m",
      "\u001b[1;32m<ipython-input-35-f104253406b4>\u001b[0m in \u001b[0;36msay_nick\u001b[1;34m(nick)\u001b[0m\n\u001b[0;32m      5\u001b[0m \u001b[1;32mdef\u001b[0m \u001b[0msay_nick\u001b[0m\u001b[1;33m(\u001b[0m\u001b[0mnick\u001b[0m\u001b[1;33m)\u001b[0m\u001b[1;33m:\u001b[0m\u001b[1;33m\u001b[0m\u001b[0m\n\u001b[0;32m      6\u001b[0m     \u001b[1;32mif\u001b[0m \u001b[0mnick\u001b[0m\u001b[1;33m==\u001b[0m\u001b[1;34m'stupid'\u001b[0m\u001b[1;33m:\u001b[0m\u001b[1;33m\u001b[0m\u001b[0m\n\u001b[1;32m----> 7\u001b[1;33m         \u001b[1;32mraise\u001b[0m \u001b[0mMyError\u001b[0m\u001b[1;33m(\u001b[0m\u001b[1;33m)\u001b[0m\u001b[1;33m\u001b[0m\u001b[0m\n\u001b[0m\u001b[0;32m      8\u001b[0m     \u001b[0mprint\u001b[0m\u001b[1;33m(\u001b[0m\u001b[0mnick\u001b[0m\u001b[1;33m)\u001b[0m\u001b[1;33m\u001b[0m\u001b[0m\n\u001b[0;32m      9\u001b[0m \u001b[1;33m\u001b[0m\u001b[0m\n",
      "\u001b[1;31mMyError\u001b[0m: "
     ]
    }
   ],
   "source": [
    "#예외 만들기\n",
    "class MyError(Exception):\n",
    "    pass\n",
    "\n",
    "def say_nick(nick):\n",
    "    if nick=='stupid':\n",
    "        raise MyError()\n",
    "    print(nick)\n",
    "\n",
    "say_nick('babo')\n",
    "say_nick('stupid')"
   ]
  },
  {
   "cell_type": "code",
   "execution_count": 36,
   "metadata": {},
   "outputs": [
    {
     "name": "stdout",
     "output_type": "stream",
     "text": [
      "babo\n",
      "허용되지 않는 별명입니다.\n"
     ]
    }
   ],
   "source": [
    "#예외 만들기\n",
    "class MyError(Exception):\n",
    "    pass\n",
    "\n",
    "def say_nick(nick):\n",
    "    if nick=='stupid':\n",
    "        raise MyError()\n",
    "    print(nick)\n",
    "try:\n",
    "    say_nick('babo')\n",
    "    say_nick('stupid')\n",
    "except MyError:\n",
    "    print(\"허용되지 않는 별명입니다.\")"
   ]
  },
  {
   "cell_type": "code",
   "execution_count": 37,
   "metadata": {},
   "outputs": [
    {
     "name": "stdout",
     "output_type": "stream",
     "text": [
      "babo\n",
      "\n"
     ]
    }
   ],
   "source": [
    "#예외 만들기\n",
    "class MyError(Exception):\n",
    "    pass\n",
    "\n",
    "def say_nick(nick):\n",
    "    if nick=='stupid':\n",
    "        raise MyError()\n",
    "    print(nick)\n",
    "try:\n",
    "    say_nick('babo')\n",
    "    say_nick('stupid')\n",
    "except MyError as e:\n",
    "    print(e) ## 오류 메시지 출력x"
   ]
  },
  {
   "cell_type": "code",
   "execution_count": 38,
   "metadata": {},
   "outputs": [
    {
     "name": "stdout",
     "output_type": "stream",
     "text": [
      "babo\n",
      "허용되지 않는 별명입니다.\n"
     ]
    }
   ],
   "source": [
    "#예외 만들기\n",
    "class MyError(Exception):\n",
    "    def __str__(self):\n",
    "        return \"허용되지 않는 별명입니다.\"\n",
    "    \n",
    "def say_nick(nick):\n",
    "    if nick=='stupid':\n",
    "        raise MyError()\n",
    "    print(nick)\n",
    "try:\n",
    "    say_nick('babo')\n",
    "    say_nick('stupid')\n",
    "except MyError as e:\n",
    "    print(e) ## 오류 메시지 출력o"
   ]
  },
  {
   "cell_type": "markdown",
   "metadata": {},
   "source": [
    "## 05-5. Internal Function(내장함수)"
   ]
  },
  {
   "cell_type": "code",
   "execution_count": 40,
   "metadata": {},
   "outputs": [
    {
     "name": "stdout",
     "output_type": "stream",
     "text": [
      "True\n",
      "False\n"
     ]
    }
   ],
   "source": [
    "#all(x)는 반복 가능한(iterable) 자료형 x를 입력 인수로 받으며 \n",
    "# 이 x가 모두 참이면 True, 거짓이 하나라도 있으면 False\n",
    "print(all([1,2,3]))\n",
    "print(all([1,2,3,0]))"
   ]
  },
  {
   "cell_type": "code",
   "execution_count": 46,
   "metadata": {},
   "outputs": [
    {
     "name": "stdout",
     "output_type": "stream",
     "text": [
      "False\n",
      "True\n"
     ]
    }
   ],
   "source": [
    "#any(x)는 x 중 하나라도 참이 있으면 True를 돌려주고, x가 모두 거짓일 때에만 False\n",
    "print(any([0,\"\"]))\n",
    "print(any([1,2,3,0]))"
   ]
  },
  {
   "cell_type": "code",
   "execution_count": 50,
   "metadata": {},
   "outputs": [
    {
     "name": "stdout",
     "output_type": "stream",
     "text": [
      "a\n",
      "0\n"
     ]
    }
   ],
   "source": [
    "#chr(i): 아스키(ASCII) 코드 값을 입력받아 그 코드에 해당하는 문자를 출력하는 함수\n",
    "print(chr(97))\n",
    "print(chr(48))"
   ]
  },
  {
   "cell_type": "code",
   "execution_count": 44,
   "metadata": {},
   "outputs": [
    {
     "name": "stdout",
     "output_type": "stream",
     "text": [
      "['__add__', '__class__', '__contains__', '__delattr__', '__delitem__', '__dir__', '__doc__', '__eq__', '__format__', '__ge__', '__getattribute__', '__getitem__', '__gt__', '__hash__', '__iadd__', '__imul__', '__init__', '__init_subclass__', '__iter__', '__le__', '__len__', '__lt__', '__mul__', '__ne__', '__new__', '__reduce__', '__reduce_ex__', '__repr__', '__reversed__', '__rmul__', '__setattr__', '__setitem__', '__sizeof__', '__str__', '__subclasshook__', 'append', 'clear', 'copy', 'count', 'extend', 'index', 'insert', 'pop', 'remove', 'reverse', 'sort']\n",
      "--------------------------------------------------------------------------------\n",
      "['__class__', '__contains__', '__delattr__', '__delitem__', '__dir__', '__doc__', '__eq__', '__format__', '__ge__', '__getattribute__', '__getitem__', '__gt__', '__hash__', '__init__', '__init_subclass__', '__iter__', '__le__', '__len__', '__lt__', '__ne__', '__new__', '__reduce__', '__reduce_ex__', '__repr__', '__setattr__', '__setitem__', '__sizeof__', '__str__', '__subclasshook__', 'clear', 'copy', 'fromkeys', 'get', 'items', 'keys', 'pop', 'popitem', 'setdefault', 'update', 'values']\n"
     ]
    }
   ],
   "source": [
    "#dir은 객체가 자체적으로 가지고 있는 변수나 함수를 보여 준다. \n",
    "print(dir([1, 2, 3]))\n",
    "print(\"-\"*80)\n",
    "print(dir({'1':'a'}))"
   ]
  },
  {
   "cell_type": "code",
   "execution_count": 45,
   "metadata": {},
   "outputs": [
    {
     "name": "stdout",
     "output_type": "stream",
     "text": [
      "(2, 1)\n",
      "2\n",
      "1\n"
     ]
    }
   ],
   "source": [
    "#divmod(a, b): a를 b로 나눈 몫과 나머지를 튜플 형태로 돌려주는 함수\n",
    "print(divmod(7, 3))\n",
    "print(7 // 3)\n",
    "print(7 % 3)"
   ]
  },
  {
   "cell_type": "code",
   "execution_count": 51,
   "metadata": {},
   "outputs": [
    {
     "name": "stdout",
     "output_type": "stream",
     "text": [
      "0 body\n",
      "1 foo\n",
      "2 bar\n"
     ]
    }
   ],
   "source": [
    "#enumerate :순서가 있는 자료형(리스트, 튜플, 문자열)을 입력으로 받아 \n",
    "#          인덱스 값을 포함하는 enumerate 객체를 돌려준다.\n",
    "\n",
    "for i, name in enumerate(['body', 'foo', 'bar']):\n",
    "    print(i, name)\n"
   ]
  },
  {
   "cell_type": "code",
   "execution_count": 55,
   "metadata": {},
   "outputs": [
    {
     "name": "stdout",
     "output_type": "stream",
     "text": [
      "3\n",
      "hia\n",
      "(1, 1)\n"
     ]
    }
   ],
   "source": [
    "#eval(expression ): 실행 가능한 문자열(1+2, 'hi' + 'a' 같은 것)을 입력으로 받아 \n",
    "#                  문자열을 실행한 결괏값을 돌려주는 함수\n",
    "print(eval('1+2'))\n",
    "print(eval(\"'hi'+'a'\"))\n",
    "print(eval('divmod(4,3)'))"
   ]
  },
  {
   "cell_type": "code",
   "execution_count": 56,
   "metadata": {},
   "outputs": [
    {
     "name": "stdout",
     "output_type": "stream",
     "text": [
      "[1, 2, 6]\n"
     ]
    }
   ],
   "source": [
    "# filter: 첫 번째 인수로 함수 이름을, 두 번째 인수로 그 함수에 차례로 들어갈 \n",
    "#        반복 가능한 자료형을 받는다. 그리고 두 번째 인수인 반복 가능한 자료형 요소가 \n",
    "#        첫 번째 인수인 함수에 입력되었을 때 반환 값이 참인 것만 묶어서 돌려준다.\n",
    "\n",
    "#positive.py \n",
    "def positive(l): \n",
    "    result = [] \n",
    "    for i in l: \n",
    "        if i > 0: \n",
    "            result.append(i) \n",
    "    return result\n",
    "\n",
    "print(positive([1,-3,2,0,-5,6]))"
   ]
  },
  {
   "cell_type": "code",
   "execution_count": 66,
   "metadata": {},
   "outputs": [
    {
     "name": "stdout",
     "output_type": "stream",
     "text": [
      "[1, 2, 6]\n",
      "<filter object at 0x000000A19F894630>\n"
     ]
    }
   ],
   "source": [
    "#filter1.py\n",
    "def positive(x):\n",
    "    return x > 0\n",
    "\n",
    "print(list(filter(positive, [1, -3, 2, 0, -5, 6])))\n",
    "\n",
    "print(filter(positive, [1, -3, 2, 0, -5, 6]))"
   ]
  },
  {
   "cell_type": "code",
   "execution_count": 58,
   "metadata": {},
   "outputs": [
    {
     "data": {
      "text/plain": [
       "[1, 2, 6]"
      ]
     },
     "execution_count": 58,
     "metadata": {},
     "output_type": "execute_result"
    }
   ],
   "source": [
    "#lambda 함수\n",
    "list(filter(lambda x: x > 0, [1, -3, 2, 0, -5, 6]))"
   ]
  },
  {
   "cell_type": "code",
   "execution_count": 59,
   "metadata": {},
   "outputs": [
    {
     "name": "stdout",
     "output_type": "stream",
     "text": [
      "0xea\n",
      "0x3\n"
     ]
    }
   ],
   "source": [
    "#hex(x)는 정수 값을 입력받아 16진수(hexadecimal)로 변환하여 돌려주는 함수\n",
    "print(hex(234))\n",
    "print(hex(3))"
   ]
  },
  {
   "cell_type": "code",
   "execution_count": 71,
   "metadata": {},
   "outputs": [
    {
     "name": "stdout",
     "output_type": "stream",
     "text": [
      "1704946816\n",
      "1704946816\n",
      "1704946816\n",
      "1704946848\n"
     ]
    }
   ],
   "source": [
    "#id(object)는 객체를 입력받아 객체의 고유 주소 값(레퍼런스)을 돌려주는 함수\n",
    "a=3; b=a\n",
    "print(id(3))\n",
    "print(id(a))\n",
    "print(id(b))\n",
    "print(id(4))"
   ]
  },
  {
   "cell_type": "code",
   "execution_count": null,
   "metadata": {},
   "outputs": [],
   "source": [
    "# input([prompt])은 사용자 입력을 받는 함수이다. 매개변수로 문자열을 주면 다음 세 번째 예에서 볼 수 있듯이 그 문자열은 프롬프트가 된다.\n"
   ]
  },
  {
   "cell_type": "code",
   "execution_count": 62,
   "metadata": {},
   "outputs": [
    {
     "name": "stdout",
     "output_type": "stream",
     "text": [
      "hi\n",
      "hi\n"
     ]
    }
   ],
   "source": [
    "a = input()\n",
    "print(a)"
   ]
  },
  {
   "cell_type": "code",
   "execution_count": 67,
   "metadata": {},
   "outputs": [
    {
     "name": "stdout",
     "output_type": "stream",
     "text": [
      "3\n",
      "3\n",
      "3\n",
      "26\n"
     ]
    }
   ],
   "source": [
    "# int(x)는 문자열 형태의 숫자나 소수점이 있는 숫자 등을 정수 형태로 돌려주는 함수\n",
    "print(int('3'))\n",
    "print(int(3.4))\n",
    "\n",
    "\n",
    "#int(x, radix)는 radix 진수로 표현된 문자열 x를 10진수로 변환하여 돌려준다.\n",
    "print(int('11', 2))#2진수로 표현된 11의 10진수 값\n",
    "print(int('1A', 16))#16진수로 표현된 1A의 10진수 값"
   ]
  },
  {
   "cell_type": "code",
   "execution_count": null,
   "metadata": {},
   "outputs": [],
   "source": [
    "# isinstance(object, class): 첫 번째 인수로 인스턴스, 두 번째 인수로 클래스 이름을 \n",
    "#                          받는다. 입력으로 받은 인스턴스가 그 클래스의 인스턴스인지를 \n",
    "#                          판단하여 참이면 True, 거짓이면 False를 돌려준다. \n"
   ]
  },
  {
   "cell_type": "code",
   "execution_count": 68,
   "metadata": {},
   "outputs": [
    {
     "name": "stdout",
     "output_type": "stream",
     "text": [
      "True\n",
      "False\n"
     ]
    }
   ],
   "source": [
    "class Person: pass\n",
    "a = Person()\n",
    "print(isinstance(a, Person))\n",
    "b = 3\n",
    "print(isinstance(b, Person)) #b는 Person 클래스가 만든 인스턴스가 아니므로 False"
   ]
  },
  {
   "cell_type": "code",
   "execution_count": 69,
   "metadata": {},
   "outputs": [
    {
     "name": "stdout",
     "output_type": "stream",
     "text": [
      "6\n",
      "3\n",
      "2\n"
     ]
    }
   ],
   "source": [
    "#len(s)은 입력값 s의 길이(요소의 전체 개수)를 돌려주는 함수\n",
    "print(len(\"python\"))\n",
    "print(len([1,2,3]))\n",
    "print(len((1, 'a')))"
   ]
  },
  {
   "cell_type": "code",
   "execution_count": 72,
   "metadata": {},
   "outputs": [
    {
     "name": "stdout",
     "output_type": "stream",
     "text": [
      "['p', 'y', 't', 'h', 'o', 'n']\n",
      "[1, 2, 3]\n",
      "[1, 2, 3]\n"
     ]
    }
   ],
   "source": [
    "# ist(s)는 반복 가능한 자료형 s를 입력받아 리스트로 만들어 돌려주는 함수\n",
    "print(list(\"python\"))\n",
    "print(list((1,2,3)))\n",
    "\n",
    "a = [1, 2, 3]\n",
    "b = list(a)\n",
    "print(b)"
   ]
  },
  {
   "cell_type": "code",
   "execution_count": 74,
   "metadata": {},
   "outputs": [
    {
     "name": "stdout",
     "output_type": "stream",
     "text": [
      "[2, 4, 6, 8]\n",
      "[2, 4, 6, 8]\n"
     ]
    }
   ],
   "source": [
    "#map(f, iterable): 함수(f)와 반복 가능한(iterable) 자료형을 입력으로 받는다. \n",
    "# map은 입력받은 자료형의 각 요소를 함수 f가 수행한 결과를 묶어서 돌려주는 함수\n",
    "\n",
    "# two_times.py\n",
    "def two_times(numberList):\n",
    "    result = [ ]\n",
    "    for number in numberList:\n",
    "        result.append(number*2)\n",
    "    return result\n",
    "\n",
    "result = two_times([1, 2, 3, 4])\n",
    "print(result)\n",
    "\n",
    "def two_times(x): \n",
    "    return x*2\n",
    "print(list(map(two_times, [1, 2, 3, 4])))"
   ]
  },
  {
   "cell_type": "code",
   "execution_count": 75,
   "metadata": {},
   "outputs": [
    {
     "data": {
      "text/plain": [
       "[2, 4, 6, 8]"
      ]
     },
     "execution_count": 75,
     "metadata": {},
     "output_type": "execute_result"
    }
   ],
   "source": [
    "list(map(lambda a: a*2, [1, 2, 3, 4]))"
   ]
  },
  {
   "cell_type": "code",
   "execution_count": null,
   "metadata": {},
   "outputs": [],
   "source": [
    "#max(iterable)는 인수로 반복 가능한 자료형을 입력받아 그 최댓값을 돌려주는 함수\n"
   ]
  },
  {
   "cell_type": "code",
   "execution_count": 76,
   "metadata": {},
   "outputs": [
    {
     "name": "stdout",
     "output_type": "stream",
     "text": [
      "3\n",
      "y\n"
     ]
    }
   ],
   "source": [
    "print(max([1, 2, 3]))\n",
    "print(max(\"python\"))"
   ]
  },
  {
   "cell_type": "code",
   "execution_count": 77,
   "metadata": {},
   "outputs": [
    {
     "name": "stdout",
     "output_type": "stream",
     "text": [
      "1\n",
      "h\n"
     ]
    }
   ],
   "source": [
    "#min(iterable):인수로 반복 가능한 자료형을 입력받아 그 최솟값을 돌려주는 함수\n",
    "print(min([1, 2, 3]))\n",
    "print(min(\"python\"))"
   ]
  },
  {
   "cell_type": "code",
   "execution_count": 78,
   "metadata": {},
   "outputs": [
    {
     "name": "stdout",
     "output_type": "stream",
     "text": [
      "0o42\n",
      "0o30071\n"
     ]
    }
   ],
   "source": [
    "#oct(x)는 정수 형태의 숫자를 8진수 문자열로 바꾸어 돌려주는 함수\n",
    "print(oct(34))\n",
    "print(oct(12345))"
   ]
  },
  {
   "cell_type": "code",
   "execution_count": 79,
   "metadata": {},
   "outputs": [
    {
     "ename": "FileNotFoundError",
     "evalue": "[Errno 2] No such file or directory: 'binary_file'",
     "output_type": "error",
     "traceback": [
      "\u001b[1;31m---------------------------------------------------------------------------\u001b[0m",
      "\u001b[1;31mFileNotFoundError\u001b[0m                         Traceback (most recent call last)",
      "\u001b[1;32m<ipython-input-79-e7a71f671494>\u001b[0m in \u001b[0;36m<module>\u001b[1;34m()\u001b[0m\n\u001b[0;32m      2\u001b[0m \u001b[1;31m#읽기 방법(mode)을 생략하면 기본값인 읽기 전용 모드(r)로 파일 객체를 만들어 돌려준다.\u001b[0m\u001b[1;33m\u001b[0m\u001b[1;33m\u001b[0m\u001b[0m\n\u001b[0;32m      3\u001b[0m \u001b[1;33m\u001b[0m\u001b[0m\n\u001b[1;32m----> 4\u001b[1;33m \u001b[0mf\u001b[0m \u001b[1;33m=\u001b[0m \u001b[0mopen\u001b[0m\u001b[1;33m(\u001b[0m\u001b[1;34m\"binary_file\"\u001b[0m\u001b[1;33m,\u001b[0m \u001b[1;34m\"rb\"\u001b[0m\u001b[1;33m)\u001b[0m\u001b[1;31m#바이너리 읽기 모드\u001b[0m\u001b[1;33m\u001b[0m\u001b[0m\n\u001b[0m",
      "\u001b[1;31mFileNotFoundError\u001b[0m: [Errno 2] No such file or directory: 'binary_file'"
     ]
    }
   ],
   "source": [
    "#open(filename, [mode])은 \"파일 이름\"과 \"읽기 방법\"을 입력받아 파일 객체를 돌려주는 함수 \n",
    "#읽기 방법(mode)을 생략하면 기본값인 읽기 전용 모드(r)로 파일 객체를 만들어 돌려준다.\n",
    "\n",
    "f = open(\"binary_file\", \"rb\")#바이너리+읽기 모드 /바이너리:한바이트씩 읽기\n",
    "\n",
    "fread = open(\"read_mode.txt\", 'r')#같은결과\n",
    "fread2 = open(\"read_mode.txt\")#같은결과\n",
    "\n",
    "fappend = open(\"append_mode.txt\", 'a')"
   ]
  },
  {
   "cell_type": "code",
   "execution_count": 80,
   "metadata": {},
   "outputs": [
    {
     "name": "stdout",
     "output_type": "stream",
     "text": [
      "97\n",
      "48\n"
     ]
    }
   ],
   "source": [
    "#ord(c)는 문자의 아스키 코드 값을 돌려주는 함수 / ord 함수는 chr 함수와 반대\n",
    "print(ord('a'))\n",
    "print(ord('0'))"
   ]
  },
  {
   "cell_type": "code",
   "execution_count": 81,
   "metadata": {},
   "outputs": [
    {
     "name": "stdout",
     "output_type": "stream",
     "text": [
      "16\n",
      "27\n"
     ]
    }
   ],
   "source": [
    "#pow(x, y)는 x의 y 제곱한 결괏값을 돌려주는 함수\n",
    "print(pow(2, 4))\n",
    "print(pow(3, 3))"
   ]
  },
  {
   "cell_type": "code",
   "execution_count": 83,
   "metadata": {},
   "outputs": [
    {
     "name": "stdout",
     "output_type": "stream",
     "text": [
      "[0, 1, 2, 3, 4]\n",
      "[5, 6, 7, 8, 9]\n",
      "[1, 3, 5, 7, 9]\n",
      "[0, -1, -2, -3, -4, -5, -6, -7, -8, -9]\n"
     ]
    }
   ],
   "source": [
    "#range([start,] stop [,step] )는 for문과 함께 자주 사용하는 함수\n",
    "\n",
    "print(list(range(5))) #시작 숫자를 지정해 주지 않으면 range 함수는 0부터 시작\n",
    "print(list(range(5, 10)))\n",
    "print(list(range(1, 10, 2)))\n",
    "print(list(range(0, -10, -1)))"
   ]
  },
  {
   "cell_type": "code",
   "execution_count": 85,
   "metadata": {},
   "outputs": [
    {
     "name": "stdout",
     "output_type": "stream",
     "text": [
      "5\n",
      "4\n",
      "5.68\n"
     ]
    }
   ],
   "source": [
    "#round(number[, ndigits]) 함수는 숫자를 입력받아 반올림해 주는 함수\n",
    "print(round(4.6))\n",
    "print(round(4.2))\n",
    "print(round(5.678, 2))"
   ]
  },
  {
   "cell_type": "code",
   "execution_count": 87,
   "metadata": {},
   "outputs": [
    {
     "name": "stdout",
     "output_type": "stream",
     "text": [
      "[1, 2, 3]\n",
      "['a', 'b', 'c']\n",
      "['e', 'o', 'r', 'z']\n",
      "[1, 2, 3]\n"
     ]
    }
   ],
   "source": [
    "#sorted(iterable) 함수는 입력값을 정렬한 후 그 결과를 리스트로 돌려주는 함수\n",
    "\n",
    "print(sorted([3, 1, 2]))\n",
    "print(sorted(['a', 'c', 'b']))\n",
    "print(sorted(\"zero\"))\n",
    "print(sorted((3, 2, 1)))"
   ]
  },
  {
   "cell_type": "code",
   "execution_count": 88,
   "metadata": {},
   "outputs": [
    {
     "name": "stdout",
     "output_type": "stream",
     "text": [
      "3\n",
      "hi\n",
      "HI\n"
     ]
    }
   ],
   "source": [
    "#str(object)은 문자열 형태로 객체를 변환하여 돌려주는 함수\n",
    "print(str(3))\n",
    "print(str('hi'))\n",
    "print(str('hi'.upper()))"
   ]
  },
  {
   "cell_type": "code",
   "execution_count": 90,
   "metadata": {},
   "outputs": [
    {
     "name": "stdout",
     "output_type": "stream",
     "text": [
      "6\n",
      "15\n"
     ]
    }
   ],
   "source": [
    "#sum(iterable) 은 입력받은 리스트나 튜플의 모든 요소의 합을 돌려주는 함수\n",
    "print(sum([1,2,3]))\n",
    "print(sum((4,5,6)))"
   ]
  },
  {
   "cell_type": "code",
   "execution_count": 91,
   "metadata": {},
   "outputs": [
    {
     "name": "stdout",
     "output_type": "stream",
     "text": [
      "('a', 'b', 'c')\n",
      "(1, 2, 3)\n",
      "(1, 2, 3)\n"
     ]
    }
   ],
   "source": [
    "#tuple(iterable)은 반복 가능한 자료형을 입력받아 튜플 형태로 바꾸어 돌려주는 함수\n",
    "print(tuple(\"abc\"))\n",
    "print(tuple([1, 2, 3]))\n",
    "print(tuple((1, 2, 3)))"
   ]
  },
  {
   "cell_type": "markdown",
   "metadata": {},
   "source": [
    "#type(object)은 입력값의 자료형이 무엇인지 알려 주는 함수이다.\n",
    "print(type(\"abc\"))\n",
    "print(type([ ]))\n",
    "print(type(open(\"test\", 'w'))) #<class '_io.TextIOWrapper'>"
   ]
  },
  {
   "cell_type": "code",
   "execution_count": 93,
   "metadata": {},
   "outputs": [
    {
     "name": "stdout",
     "output_type": "stream",
     "text": [
      "[(1, 4), (2, 5), (3, 6)]\n",
      "[(1, 4, 7), (2, 5, 8), (3, 6, 9)]\n",
      "[('a', 'd'), ('b', 'e'), ('c', 'f')]\n"
     ]
    }
   ],
   "source": [
    "#zip: 동일한 개수로 이루어진 자료형을 묶어 주는 역할을 하는 함수\n",
    "print(list(zip([1, 2, 3], [4, 5, 6])))\n",
    "print(list(zip([1, 2, 3], [4, 5, 6], [7, 8, 9])))\n",
    "print(list(zip(\"abc\", \"def\")))"
   ]
  },
  {
   "cell_type": "markdown",
   "metadata": {},
   "source": [
    "# 05-6 외장함수"
   ]
  },
  {
   "cell_type": "code",
   "execution_count": null,
   "metadata": {},
   "outputs": [],
   "source": [
    "### sys 모듈은 파이썬 인터프리터가 제공하는 변수와 함수를 직접 제어할 수 있게 해주는 모듈이다.\n",
    "# argv_test.py\n",
    "import sys\n",
    "print(sys.argv)"
   ]
  },
  {
   "cell_type": "markdown",
   "metadata": {},
   "source": [
    "C:/doit/Mymod>python argv_test.py you need python\n",
    "    \n",
    "['argv_test.py', 'you', 'need', 'python']"
   ]
  },
  {
   "cell_type": "code",
   "execution_count": 3,
   "metadata": {},
   "outputs": [
    {
     "data": {
      "text/plain": [
       "['',\n",
       " 'C:\\\\ProgramData\\\\Anaconda3\\\\python36.zip',\n",
       " 'C:\\\\ProgramData\\\\Anaconda3\\\\DLLs',\n",
       " 'C:\\\\ProgramData\\\\Anaconda3\\\\lib',\n",
       " 'C:\\\\ProgramData\\\\Anaconda3',\n",
       " 'C:\\\\ProgramData\\\\Anaconda3\\\\lib\\\\site-packages',\n",
       " 'C:\\\\ProgramData\\\\Anaconda3\\\\lib\\\\site-packages\\\\win32',\n",
       " 'C:\\\\ProgramData\\\\Anaconda3\\\\lib\\\\site-packages\\\\win32\\\\lib',\n",
       " 'C:\\\\ProgramData\\\\Anaconda3\\\\lib\\\\site-packages\\\\Pythonwin',\n",
       " 'C:\\\\ProgramData\\\\Anaconda3\\\\lib\\\\site-packages\\\\IPython\\\\extensions',\n",
       " 'C:\\\\Users\\\\wnddkd\\\\.ipython',\n",
       " 'C:\\\\JupyterSpace\\\\Do It\\\\mymod']"
      ]
     },
     "execution_count": 3,
     "metadata": {},
     "output_type": "execute_result"
    }
   ],
   "source": [
    "import sys\n",
    "sys.path"
   ]
  },
  {
   "cell_type": "code",
   "execution_count": 2,
   "metadata": {},
   "outputs": [],
   "source": [
    "# path_append.py \n",
    "#sys.path.append를 사용해 경로 이름을 추가\n",
    "import sys\n",
    "sys.path.append(\"C:\\JupyterSpace\\Do It\\mymod\")\n",
    "#※ 명령 프롬프트 창에서는 /, \\든 상관없지만, 소스코드 안에서는 반드시 / 또는 \\\\ 기호를 사용해야 한다."
   ]
  },
  {
   "cell_type": "code",
   "execution_count": 4,
   "metadata": {},
   "outputs": [],
   "source": [
    "#pickle은 객체의 형태를 그대로 유지하면서 파일에 저장하고 불러올 수 있게 하는 모듈(java:Serialible)\n",
    ">>> import pickle\n",
    ">>> f = open(\"test.txt\", 'wb')\n",
    ">>> data = {1: 'python', 2: 'you need'}\n",
    ">>> pickle.dump(data, f)\n",
    ">>> f.close()"
   ]
  },
  {
   "cell_type": "code",
   "execution_count": 5,
   "metadata": {},
   "outputs": [
    {
     "name": "stdout",
     "output_type": "stream",
     "text": [
      "{1: 'python', 2: 'you need'}\n"
     ]
    },
    {
     "data": {
      "text/plain": [
       "{2: 'you need', 1: 'python'}"
      ]
     },
     "execution_count": 5,
     "metadata": {},
     "output_type": "execute_result"
    }
   ],
   "source": [
    ">>> import pickle\n",
    ">>> f = open(\"test.txt\", 'rb')\n",
    ">>> data = pickle.load(f)\n",
    ">>> print(data)\n",
    "{2:'you need', 1:'python'}"
   ]
  },
  {
   "cell_type": "code",
   "execution_count": 8,
   "metadata": {},
   "outputs": [
    {
     "name": "stdout",
     "output_type": "stream",
     "text": [
      "environ({'ALLUSERSPROFILE': 'C:\\\\ProgramData', 'APPDATA': 'C:\\\\Users\\\\wnddkd\\\\AppData\\\\Roaming', 'COMMONPROGRAMFILES': 'C:\\\\Program Files\\\\Common Files', 'COMMONPROGRAMFILES(X86)': 'C:\\\\Program Files (x86)\\\\Common Files', 'COMMONPROGRAMW6432': 'C:\\\\Program Files\\\\Common Files', 'COMPUTERNAME': 'DESKTOP-4CA8PJG', 'COMSPEC': 'C:\\\\Windows\\\\system32\\\\cmd.exe', 'CONDA_DEFAULT_ENV': 'base', 'CONDA_EXE': 'C:\\\\ProgramData\\\\Anaconda3\\\\Scripts\\\\conda.exe', 'CONDA_PREFIX': 'C:\\\\ProgramData\\\\Anaconda3', 'CONDA_PROMPT_MODIFIER': '(base) ', 'CONDA_PYTHON_EXE': 'C:\\\\ProgramData\\\\Anaconda3\\\\python.exe', 'CONDA_SHLVL': '1', 'FPS_BROWSER_APP_PROFILE_STRING': 'Internet Explorer', 'FPS_BROWSER_USER_PROFILE_STRING': 'Default', 'HOMEDRIVE': 'C:', 'HOMEPATH': '\\\\Users\\\\wnddkd', 'JAVA_HOME': 'C:\\\\Program Files\\\\Java\\\\jdk1.8.0_211', 'LOCALAPPDATA': 'C:\\\\Users\\\\wnddkd\\\\AppData\\\\Local', 'LOGONSERVER': '\\\\\\\\DESKTOP-4CA8PJG', 'NUMBER_OF_PROCESSORS': '4', 'ONEDRIVE': 'C:\\\\Users\\\\wnddkd\\\\OneDrive', 'OS': 'Windows_NT', 'PATH': 'C:\\\\ProgramData\\\\Anaconda3;C:\\\\ProgramData\\\\Anaconda3\\\\Library\\\\mingw-w64\\\\bin;C:\\\\ProgramData\\\\Anaconda3\\\\Library\\\\usr\\\\bin;C:\\\\ProgramData\\\\Anaconda3\\\\Library\\\\bin;C:\\\\ProgramData\\\\Anaconda3\\\\Scripts;C:\\\\ProgramData\\\\Anaconda3\\\\bin;C:\\\\ProgramData\\\\Anaconda3;C:\\\\ProgramData\\\\Anaconda3\\\\Library\\\\mingw-w64\\\\bin;C:\\\\ProgramData\\\\Anaconda3\\\\Library\\\\usr\\\\bin;C:\\\\ProgramData\\\\Anaconda3\\\\Library\\\\bin;C:\\\\ProgramData\\\\Anaconda3\\\\Scripts;C:\\\\app\\\\wnddkd\\\\product\\\\11.2.0\\\\dbhome_1\\\\bin;.;C:\\\\Program Files\\\\Java\\\\jdk1.8.0_211\\\\bin;C:\\\\Program Files (x86)\\\\Common Files\\\\Oracle\\\\Java\\\\javapath;C:\\\\Windows\\\\system32;C:\\\\Windows;C:\\\\Windows\\\\System32\\\\Wbem;C:\\\\Windows\\\\System32\\\\WindowsPowerShell\\\\v1.0\\\\;C:\\\\Program Files\\\\MySQL\\\\MySQL Shell 8.0\\\\bin\\\\', 'PATHEXT': '.COM;.EXE;.BAT;.CMD;.VBS;.VBE;.JS;.JSE;.WSF;.WSH;.MSC', 'PROCESSOR_ARCHITECTURE': 'AMD64', 'PROCESSOR_IDENTIFIER': 'Intel64 Family 6 Model 94 Stepping 3, GenuineIntel', 'PROCESSOR_LEVEL': '6', 'PROCESSOR_REVISION': '5e03', 'PROGRAMDATA': 'C:\\\\ProgramData', 'PROGRAMFILES': 'C:\\\\Program Files', 'PROGRAMFILES(X86)': 'C:\\\\Program Files (x86)', 'PROGRAMW6432': 'C:\\\\Program Files', 'PROMPT': '(base) $P$G', 'PSMODULEPATH': 'C:\\\\Windows\\\\system32\\\\WindowsPowerShell\\\\v1.0\\\\Modules\\\\', 'PUBLIC': 'C:\\\\Users\\\\Public', 'PYTHONIOENCODING': '949', 'SESSIONNAME': 'Console', 'SYSTEMDRIVE': 'C:', 'SYSTEMROOT': 'C:\\\\Windows', 'TEMP': 'C:\\\\Users\\\\wnddkd\\\\AppData\\\\Local\\\\Temp', 'TMP': 'C:\\\\Users\\\\wnddkd\\\\AppData\\\\Local\\\\Temp', 'USERDOMAIN': 'DESKTOP-4CA8PJG', 'USERDOMAIN_ROAMINGPROFILE': 'DESKTOP-4CA8PJG', 'USERNAME': 'wnddkd', 'USERPROFILE': 'C:\\\\Users\\\\wnddkd', 'WINDIR': 'C:\\\\Windows', 'JPY_INTERRUPT_EVENT': '1436', 'IPY_INTERRUPT_EVENT': '1436', 'JPY_PARENT_PID': '1232', 'TERM': 'xterm-color', 'CLICOLOR': '1', 'PAGER': 'cat', 'GIT_PAGER': 'cat', 'MPLBACKEND': 'module://ipykernel.pylab.backend_inline'})\n",
      "C:\\ProgramData\\Anaconda3;C:\\ProgramData\\Anaconda3\\Library\\mingw-w64\\bin;C:\\ProgramData\\Anaconda3\\Library\\usr\\bin;C:\\ProgramData\\Anaconda3\\Library\\bin;C:\\ProgramData\\Anaconda3\\Scripts;C:\\ProgramData\\Anaconda3\\bin;C:\\ProgramData\\Anaconda3;C:\\ProgramData\\Anaconda3\\Library\\mingw-w64\\bin;C:\\ProgramData\\Anaconda3\\Library\\usr\\bin;C:\\ProgramData\\Anaconda3\\Library\\bin;C:\\ProgramData\\Anaconda3\\Scripts;C:\\app\\wnddkd\\product\\11.2.0\\dbhome_1\\bin;.;C:\\Program Files\\Java\\jdk1.8.0_211\\bin;C:\\Program Files (x86)\\Common Files\\Oracle\\Java\\javapath;C:\\Windows\\system32;C:\\Windows;C:\\Windows\\System32\\Wbem;C:\\Windows\\System32\\WindowsPowerShell\\v1.0\\;C:\\Program Files\\MySQL\\MySQL Shell 8.0\\bin\\\n",
      "C:\\WINDOWS\n"
     ]
    }
   ],
   "source": [
    "# OS 모듈은 환경 변수나 디렉터리, 파일 등의 OS 자원을 제어할 수 있게 해주는 모듈\n",
    "import os\n",
    "print(os.environ)\n",
    "print(os.environ['PATH'])\n",
    "os.chdir(\"C:\\WINDOWS\")\n",
    "print(os.getcwd())"
   ]
  },
  {
   "cell_type": "code",
   "execution_count": 12,
   "metadata": {},
   "outputs": [
    {
     "name": "stdout",
     "output_type": "stream",
     "text": [
      " C 드라이브의 볼륨에는 이름이 없습니다.\n",
      " 볼륨 일련 번호: 0C41-9687\n",
      "\n",
      " C:\\WINDOWS 디렉터리\n",
      "\n",
      "2019-10-26  오전 09:34    <DIR>          .\n",
      "2019-10-26  오전 09:34    <DIR>          ..\n",
      "2015-07-10  오후 08:04    <DIR>          addins\n",
      "2019-07-05  오전 03:34    <DIR>          appcompat\n",
      "2019-07-08  오전 11:20    <DIR>          AppPatch\n",
      "2019-07-09  오후 01:41    <DIR>          AppReadiness\n",
      "2019-10-25  오전 10:02    <DIR>          assembly\n",
      "2015-07-10  오후 07:59            61,952 bfsvc.exe\n",
      "2015-07-10  오후 08:04    <DIR>          Boot\n",
      "2015-07-10  오후 08:04    <DIR>          Branding\n",
      "2019-08-07  오후 04:56    <DIR>          CbsTemp\n",
      "2019-07-10  오전 09:36             1,287 comsetup.log\n",
      "2019-07-04  오후 05:34    <DIR>          CSC\n",
      "2015-07-10  오후 08:04    <DIR>          Cursors\n",
      "2019-07-04  오후 05:39    <DIR>          debug\n",
      "2015-07-10  오후 08:04    <DIR>          DesktopTileResources\n",
      "2019-07-08  오전 11:20    <DIR>          DevicesFlow\n",
      "2019-10-26  오전 09:31             1,908 diagerr.xml\n",
      "2015-07-10  오후 08:04    <DIR>          diagnostics\n",
      "2019-10-26  오전 09:31             1,908 diagwrn.xml\n",
      "2015-07-10  오후 10:19    <DIR>          DigitalLocker\n",
      "2019-07-10  오전 09:37             3,169 DtcInstall.log\n",
      "2015-07-10  오후 10:11    <DIR>          en-US\n",
      "2017-03-04  오후 04:55         4,533,320 explorer.exe\n",
      "2015-07-10  오후 08:04    <DIR>          Globalization\n",
      "2019-07-19  오전 09:11    <DIR>          HancomIME\n",
      "2019-07-08  오전 11:20    <DIR>          Help\n",
      "2017-06-03  오후 08:22           995,840 HelpPane.exe\n",
      "2015-07-10  오후 08:00            18,432 hh.exe\n",
      "2019-10-26  오전 09:38                69 hjimesv.ini\n",
      "2019-07-08  오전 11:20    <DIR>          IME\n",
      "2019-07-08  오전 11:20    <DIR>          ImmersiveControlPanel\n",
      "2019-10-30  오후 05:09    <DIR>          INF\n",
      "2015-07-10  오후 08:04    <DIR>          InfusedApps\n",
      "2015-07-10  오후 08:04    <DIR>          InputMethod\n",
      "2015-07-21  오후 02:08    <DIR>          ko-KR\n",
      "2019-07-06  오전 03:32    <DIR>          L2Schemas\n",
      "2019-08-09  오전 11:10    <DIR>          LiveKernelReports\n",
      "2019-07-08  오전 11:13    <DIR>          Logs\n",
      "2015-07-10  오후 09:20             1,340 lsasetup.log\n",
      "2015-07-10  오후 07:59            43,131 mib.bin\n",
      "2019-11-07  오전 09:15    <DIR>          Microsoft.NET\n",
      "2015-07-10  오후 08:04    <DIR>          Migration\n",
      "2019-07-08  오전 11:20    <DIR>          MiracastView\n",
      "2015-07-10  오후 08:04    <DIR>          ModemLogs\n",
      "2015-08-03  오전 10:19           215,040 notepad.exe\n",
      "2019-07-19  오전 08:32    <DIR>          OCR\n",
      "2019-10-24  오전 10:22               469 ODBCINST.INI\n",
      "2015-07-10  오후 08:04    <DIR>          Offline Web Pages\n",
      "2019-10-26  오전 09:31    <DIR>          Panther\n",
      "2019-09-25  오후 03:03    <DIR>          PCHEALTH\n",
      "2015-07-10  오후 08:04    <DIR>          Performance\n",
      "2019-10-29  오전 08:56            71,360 PFRO.log\n",
      "2015-07-10  오후 08:04    <DIR>          PLA\n",
      "2019-07-08  오전 11:20    <DIR>          PolicyDefinitions\n",
      "2019-11-07  오후 02:40    <DIR>          Prefetch\n",
      "2019-07-06  오전 03:32    <DIR>          PrintDialog\n",
      "2015-07-10  오후 08:00            32,200 Professional.xml\n",
      "2019-07-06  오전 03:32    <DIR>          Provisioning\n",
      "2019-07-06  오전 03:32    <DIR>          PurchaseDialog\n",
      "2015-07-10  오후 07:59           156,160 regedit.exe\n",
      "2015-07-10  오후 08:04    <DIR>          Registration\n",
      "2019-08-08  오전 09:32    <DIR>          rescache\n",
      "2019-08-26  오후 01:55    <DIR>          Resources\n",
      "2015-07-10  오후 08:04    <DIR>          SchCache\n",
      "2015-07-10  오후 08:04    <DIR>          schemas\n",
      "2015-07-10  오후 10:14    <DIR>          security\n",
      "2015-07-10  오후 09:20    <DIR>          ServiceProfiles\n",
      "2019-07-08  오전 11:20    <DIR>          servicing\n",
      "2015-07-10  오후 08:06    <DIR>          Setup\n",
      "2019-10-26  오전 09:31               254 setupact.log\n",
      "2019-10-26  오전 09:31                 0 setuperr.log\n",
      "2019-10-26  오전 09:38    <DIR>          ShellNew\n",
      "2015-07-10  오후 10:12    <DIR>          SKB\n",
      "2019-07-06  오전 03:45    <DIR>          SoftwareDistribution\n",
      "2015-07-10  오후 08:04    <DIR>          Speech\n",
      "2015-07-10  오후 08:04    <DIR>          Speech_OneCore\n",
      "2015-07-10  오후 08:00           128,000 splwow64.exe\n",
      "2015-07-10  오후 08:04    <DIR>          System\n",
      "2015-07-10  오후 08:02               219 system.ini\n",
      "2019-11-07  오후 02:20    <DIR>          System32\n",
      "2015-07-10  오후 10:14    <DIR>          SystemApps\n",
      "2015-07-10  오후 08:04    <DIR>          SystemResources\n",
      "2019-10-26  오전 09:38    <DIR>          SysWOW64\n",
      "2015-07-10  오후 08:04    <DIR>          TAPI\n",
      "2015-07-10  오후 09:21    <DIR>          Tasks\n",
      "2019-11-07  오후 02:20    <DIR>          Temp\n",
      "2015-07-10  오후 08:04    <DIR>          tracing\n",
      "2015-07-10  오후 08:04    <DIR>          twain_32\n",
      "2015-07-10  오후 08:01            60,416 twain_32.dll\n",
      "2015-07-10  오후 08:04    <DIR>          Vss\n",
      "2015-07-10  오후 10:14    <DIR>          Web\n",
      "2019-09-25  오후 03:02               167 win.ini\n",
      "2019-11-07  오후 03:27               275 WindowsUpdate.log\n",
      "2015-07-10  오후 08:00            10,240 winhlp32.exe\n",
      "2019-10-26  오전 09:39    <DIR>          WinSxS\n",
      "2015-07-10  오후 08:00           316,640 WMSysPr9.prx\n",
      "2015-07-10  오후 08:00            11,264 write.exe\n",
      "              26개 파일           6,665,060 바이트\n",
      "              72개 디렉터리  837,557,993,472 바이트 남음\n",
      "\n"
     ]
    }
   ],
   "source": [
    "import os\n",
    "#print(os.system(\"dir\"))\n",
    "os.system(\"dir\")\n",
    "f = os.popen(\"dir\")\n",
    "print(f.read())    "
   ]
  },
  {
   "cell_type": "code",
   "execution_count": 20,
   "metadata": {},
   "outputs": [
    {
     "data": {
      "text/plain": [
       "'C:\\\\JupyterSpace\\\\Do It'"
      ]
     },
     "execution_count": 20,
     "metadata": {},
     "output_type": "execute_result"
    }
   ],
   "source": [
    "%pwd#현재위치\n",
    "os.chdir(\"C:\\JupyterSpace\\Do It\")"
   ]
  },
  {
   "cell_type": "code",
   "execution_count": 16,
   "metadata": {},
   "outputs": [
    {
     "data": {
      "text/plain": [
       "'dst.txt'"
      ]
     },
     "execution_count": 16,
     "metadata": {},
     "output_type": "execute_result"
    }
   ],
   "source": [
    "#shutil은 파일을 복사해 주는 파이썬 모듈\n",
    "# dst가 디렉터리 이름이라면 src라는 파일 이름으로 dst 디렉터리에 복사하고 \n",
    "#동일한 파일 이름이 있을 경우에는 덮어쓴다.\n",
    "import shutil\n",
    "\n",
    "shutil.copy(\"test.txt\", \"dst.txt\")"
   ]
  },
  {
   "cell_type": "code",
   "execution_count": 27,
   "metadata": {},
   "outputs": [
    {
     "data": {
      "text/plain": [
       "['C:\\\\JupyterSpace\\\\Do It\\\\argv_test.py',\n",
       " 'C:\\\\JupyterSpace\\\\Do It\\\\ch01.txt',\n",
       " 'C:\\\\JupyterSpace\\\\Do It\\\\ch01_start.html',\n",
       " 'C:\\\\JupyterSpace\\\\Do It\\\\ch01_start.ipynb',\n",
       " 'C:\\\\JupyterSpace\\\\Do It\\\\ch01_start.py',\n",
       " 'C:\\\\JupyterSpace\\\\Do It\\\\ch01_start2.py',\n",
       " 'C:\\\\JupyterSpace\\\\Do It\\\\ch02_datatype_variable.ipynb',\n",
       " 'C:\\\\JupyterSpace\\\\Do It\\\\Ch02_practice.ipynb',\n",
       " 'C:\\\\JupyterSpace\\\\Do It\\\\ch03_for_while_if.ipynb',\n",
       " 'C:\\\\JupyterSpace\\\\Do It\\\\Ch04_function.ipynb',\n",
       " 'C:\\\\JupyterSpace\\\\Do It\\\\Ch5_class.ipynb',\n",
       " 'C:\\\\JupyterSpace\\\\Do It\\\\coffee.py',\n",
       " 'C:\\\\JupyterSpace\\\\Do It\\\\dataset',\n",
       " 'C:\\\\JupyterSpace\\\\Do It\\\\dst.txt',\n",
       " 'C:\\\\JupyterSpace\\\\Do It\\\\foo.txt',\n",
       " 'C:\\\\JupyterSpace\\\\Do It\\\\game',\n",
       " 'C:\\\\JupyterSpace\\\\Do It\\\\marks1.py',\n",
       " 'C:\\\\JupyterSpace\\\\Do It\\\\mod1.py',\n",
       " 'C:\\\\JupyterSpace\\\\Do It\\\\modtest.py',\n",
       " 'C:\\\\JupyterSpace\\\\Do It\\\\multistring.py',\n",
       " 'C:\\\\JupyterSpace\\\\Do It\\\\multistring.py.ipynb',\n",
       " 'C:\\\\JupyterSpace\\\\Do It\\\\mymod',\n",
       " 'C:\\\\JupyterSpace\\\\Do It\\\\mymod2',\n",
       " 'C:\\\\JupyterSpace\\\\Do It\\\\simple.ipynb',\n",
       " 'C:\\\\JupyterSpace\\\\Do It\\\\simple.py',\n",
       " 'C:\\\\JupyterSpace\\\\Do It\\\\sys1.py',\n",
       " 'C:\\\\JupyterSpace\\\\Do It\\\\sys2.py',\n",
       " 'C:\\\\JupyterSpace\\\\Do It\\\\test',\n",
       " 'C:\\\\JupyterSpace\\\\Do It\\\\test.txt',\n",
       " 'C:\\\\JupyterSpace\\\\Do It\\\\Untitled.ipynb',\n",
       " 'C:\\\\JupyterSpace\\\\Do It\\\\__pycache__']"
      ]
     },
     "execution_count": 27,
     "metadata": {},
     "output_type": "execute_result"
    }
   ],
   "source": [
    "#glob 모듈은 디렉터리 안의 파일들을 읽어서 돌려준다.\n",
    "import glob\n",
    "glob.glob(\"C:\\JupyterSpace\\Do It\\*\")"
   ]
  },
  {
   "cell_type": "code",
   "execution_count": 29,
   "metadata": {},
   "outputs": [],
   "source": [
    "# tempfile:파일을 임시로 만들어서 사용할 때 유용한 모듈\n",
    "\n",
    "import tempfile\n",
    "filename = tempfile.mktemp()\n",
    "filename\n",
    "\n",
    "f = tempfile.TemporaryFile()\n",
    "f.close()"
   ]
  },
  {
   "cell_type": "markdown",
   "metadata": {},
   "source": [
    "### Time "
   ]
  },
  {
   "cell_type": "code",
   "execution_count": 30,
   "metadata": {},
   "outputs": [
    {
     "data": {
      "text/plain": [
       "1573110463.3257165"
      ]
     },
     "execution_count": 30,
     "metadata": {},
     "output_type": "execute_result"
    }
   ],
   "source": [
    "import time\n",
    ">>> time.time()#1970.1.1 시간초"
   ]
  },
  {
   "cell_type": "code",
   "execution_count": 32,
   "metadata": {},
   "outputs": [
    {
     "data": {
      "text/plain": [
       "time.struct_time(tm_year=2019, tm_mon=11, tm_mday=7, tm_hour=16, tm_min=10, tm_sec=55, tm_wday=3, tm_yday=311, tm_isdst=0)"
      ]
     },
     "execution_count": 32,
     "metadata": {},
     "output_type": "execute_result"
    }
   ],
   "source": [
    "time.localtime(time.time())"
   ]
  },
  {
   "cell_type": "code",
   "execution_count": 33,
   "metadata": {},
   "outputs": [
    {
     "name": "stdout",
     "output_type": "stream",
     "text": [
      "Thu Nov  7 16:11:41 2019\n",
      "Thu Nov  7 16:11:41 2019\n"
     ]
    }
   ],
   "source": [
    "print(time.asctime(time.localtime(time.time())))\n",
    "#=>\n",
    "print(time.ctime())"
   ]
  },
  {
   "cell_type": "markdown",
   "metadata": {},
   "source": [
    "포맷코드\t설명\t예 \n",
    "#%a\t요일 줄임말\tMon\n",
    "#%A\t요일\tMonday\n",
    "#%b\t달 줄임말\tJan\n",
    "#%B\t달\tJanuary\n",
    "#%c\t날짜와 시간을 출력함\t06/01/01 17:22:21\n",
    "#%d\t날(day)\t[01,31]\n",
    "#%H\t시간(hour)-24시간 출력 형태\t[00,23]\n",
    "#%I\t시간(hour)-12시간 출력 형태\t[01,12]\n",
    "#%j\t1년 중 누적 날짜\t[001,366]\n",
    "#%m\t달\t[01,12]\n",
    "#%M\t분\t[01,59]\n",
    "#%p\tAM or PM\tAM\n",
    "#%S\t초\t[00,59]\n",
    "#%U\t1년 중 누적 주-일요일을 시작으로\t[00,53]\n",
    "#%w\t숫자로 된 요일\t[0(일요일),6]\n",
    "#%W\t1년 중 누적 주-월요일을 시작으로\t[00,53]\n",
    "#%x\t현재 설정된 로케일에 기반한 날짜 출력\t06/01/01\n",
    "#%X\t현재 설정된 로케일에 기반한 시간 출력\t17:22:21\n",
    "#%Y\t년도 출력\t2001\n",
    "#%Z\t시간대 출력\t대한민국 표준시\n",
    "#%%\t문자\t%\n",
    "#%y\t세기부분을 제외한 년도 출력\t01"
   ]
  },
  {
   "cell_type": "code",
   "execution_count": 34,
   "metadata": {},
   "outputs": [
    {
     "name": "stdout",
     "output_type": "stream",
     "text": [
      "11/07/19\n",
      "Thu Nov  7 16:12:24 2019\n"
     ]
    }
   ],
   "source": [
    "print(time.strftime('%x', time.localtime(time.time())))\n",
    "print(time.strftime('%c', time.localtime(time.time())))"
   ]
  },
  {
   "cell_type": "code",
   "execution_count": 39,
   "metadata": {},
   "outputs": [
    {
     "name": "stdout",
     "output_type": "stream",
     "text": [
      "0\n",
      "1\n",
      "2\n",
      "3\n",
      "4\n",
      "5\n",
      "6\n",
      "7\n",
      "8\n",
      "9\n"
     ]
    }
   ],
   "source": [
    "#sleep1.py\n",
    "import time\n",
    "for i in range(10):\n",
    "    print(i)\n",
    "    time.sleep(1) #일정한 시간 간격을 두고 루프를 실행 / 스레드와 관련 "
   ]
  },
  {
   "cell_type": "markdown",
   "metadata": {},
   "source": [
    "### calendar"
   ]
  },
  {
   "cell_type": "code",
   "execution_count": 36,
   "metadata": {},
   "outputs": [
    {
     "name": "stdout",
     "output_type": "stream",
     "text": [
      "                                  2015\n",
      "\n",
      "      January                   February                   March\n",
      "Mo Tu We Th Fr Sa Su      Mo Tu We Th Fr Sa Su      Mo Tu We Th Fr Sa Su\n",
      "          1  2  3  4                         1                         1\n",
      " 5  6  7  8  9 10 11       2  3  4  5  6  7  8       2  3  4  5  6  7  8\n",
      "12 13 14 15 16 17 18       9 10 11 12 13 14 15       9 10 11 12 13 14 15\n",
      "19 20 21 22 23 24 25      16 17 18 19 20 21 22      16 17 18 19 20 21 22\n",
      "26 27 28 29 30 31         23 24 25 26 27 28         23 24 25 26 27 28 29\n",
      "                                                    30 31\n",
      "\n",
      "       April                      May                       June\n",
      "Mo Tu We Th Fr Sa Su      Mo Tu We Th Fr Sa Su      Mo Tu We Th Fr Sa Su\n",
      "       1  2  3  4  5                   1  2  3       1  2  3  4  5  6  7\n",
      " 6  7  8  9 10 11 12       4  5  6  7  8  9 10       8  9 10 11 12 13 14\n",
      "13 14 15 16 17 18 19      11 12 13 14 15 16 17      15 16 17 18 19 20 21\n",
      "20 21 22 23 24 25 26      18 19 20 21 22 23 24      22 23 24 25 26 27 28\n",
      "27 28 29 30               25 26 27 28 29 30 31      29 30\n",
      "\n",
      "        July                     August                  September\n",
      "Mo Tu We Th Fr Sa Su      Mo Tu We Th Fr Sa Su      Mo Tu We Th Fr Sa Su\n",
      "       1  2  3  4  5                      1  2          1  2  3  4  5  6\n",
      " 6  7  8  9 10 11 12       3  4  5  6  7  8  9       7  8  9 10 11 12 13\n",
      "13 14 15 16 17 18 19      10 11 12 13 14 15 16      14 15 16 17 18 19 20\n",
      "20 21 22 23 24 25 26      17 18 19 20 21 22 23      21 22 23 24 25 26 27\n",
      "27 28 29 30 31            24 25 26 27 28 29 30      28 29 30\n",
      "                          31\n",
      "\n",
      "      October                   November                  December\n",
      "Mo Tu We Th Fr Sa Su      Mo Tu We Th Fr Sa Su      Mo Tu We Th Fr Sa Su\n",
      "          1  2  3  4                         1          1  2  3  4  5  6\n",
      " 5  6  7  8  9 10 11       2  3  4  5  6  7  8       7  8  9 10 11 12 13\n",
      "12 13 14 15 16 17 18       9 10 11 12 13 14 15      14 15 16 17 18 19 20\n",
      "19 20 21 22 23 24 25      16 17 18 19 20 21 22      21 22 23 24 25 26 27\n",
      "26 27 28 29 30 31         23 24 25 26 27 28 29      28 29 30 31\n",
      "                          30\n",
      "\n"
     ]
    }
   ],
   "source": [
    "import calendar\n",
    "print(calendar.calendar(2015))"
   ]
  },
  {
   "cell_type": "code",
   "execution_count": 37,
   "metadata": {},
   "outputs": [
    {
     "name": "stdout",
     "output_type": "stream",
     "text": [
      "   December 2015\n",
      "Mo Tu We Th Fr Sa Su\n",
      "    1  2  3  4  5  6\n",
      " 7  8  9 10 11 12 13\n",
      "14 15 16 17 18 19 20\n",
      "21 22 23 24 25 26 27\n",
      "28 29 30 31\n"
     ]
    }
   ],
   "source": [
    "calendar.prmonth(2015, 12)"
   ]
  },
  {
   "cell_type": "code",
   "execution_count": 38,
   "metadata": {},
   "outputs": [
    {
     "name": "stdout",
     "output_type": "stream",
     "text": [
      "3\n",
      "(1, 31)\n"
     ]
    }
   ],
   "source": [
    "print(calendar.weekday(2015, 12, 31))\n",
    "print(calendar.monthrange(2015,12))"
   ]
  },
  {
   "cell_type": "markdown",
   "metadata": {},
   "source": [
    "### Random"
   ]
  },
  {
   "cell_type": "code",
   "execution_count": 42,
   "metadata": {},
   "outputs": [
    {
     "name": "stdout",
     "output_type": "stream",
     "text": [
      "0.7401249423014563\n",
      "40\n"
     ]
    }
   ],
   "source": [
    "import random\n",
    "print(random.random())\n",
    "print(random.randint(1, 55))"
   ]
  },
  {
   "cell_type": "code",
   "execution_count": 43,
   "metadata": {},
   "outputs": [
    {
     "name": "stdout",
     "output_type": "stream",
     "text": [
      "5\n",
      "4\n",
      "2\n",
      "1\n",
      "3\n"
     ]
    }
   ],
   "source": [
    "# random_pop.py\n",
    "import random\n",
    "def random_pop(data):\n",
    "    number = random.randint(0, len(data)-1)\n",
    "    return data.pop(number)\n",
    "\n",
    "if __name__ == \"__main__\":\n",
    "    data = [1, 2, 3, 4, 5]\n",
    "    while data: \n",
    "        print(random_pop(data))"
   ]
  },
  {
   "cell_type": "code",
   "execution_count": 46,
   "metadata": {},
   "outputs": [
    {
     "data": {
      "text/plain": [
       "3"
      ]
     },
     "execution_count": 46,
     "metadata": {},
     "output_type": "execute_result"
    }
   ],
   "source": [
    "def random_pop(data):\n",
    "    number = random.choice(data)\n",
    "    data.remove(number)\n",
    "    return number\n",
    "random_pop([1,2,3,4,5])"
   ]
  },
  {
   "cell_type": "code",
   "execution_count": 45,
   "metadata": {},
   "outputs": [
    {
     "data": {
      "text/plain": [
       "[4, 5, 1, 2, 3]"
      ]
     },
     "execution_count": 45,
     "metadata": {},
     "output_type": "execute_result"
    }
   ],
   "source": [
    "import random\n",
    "data = [1, 2, 3, 4, 5]\n",
    "random.shuffle(data) #리스트의 항목을 무작위로 섞고 싶을 때\n",
    "data"
   ]
  },
  {
   "cell_type": "markdown",
   "metadata": {},
   "source": [
    "### webbrowser :자신의 시스템에서 사용하는 기본 웹 브라우저를 자동으로 실행하는 모듈"
   ]
  },
  {
   "cell_type": "code",
   "execution_count": 51,
   "metadata": {},
   "outputs": [
    {
     "data": {
      "text/plain": [
       "True"
      ]
     },
     "execution_count": 51,
     "metadata": {},
     "output_type": "execute_result"
    }
   ],
   "source": [
    "import webbrowser\n",
    "#웹 브라우저가 이미 실행된 상태라면 입력 주소로 이동\n",
    ">>> webbrowser.open(\"http://google.com\")"
   ]
  },
  {
   "cell_type": "code",
   "execution_count": 48,
   "metadata": {},
   "outputs": [
    {
     "data": {
      "text/plain": [
       "True"
      ]
     },
     "execution_count": 48,
     "metadata": {},
     "output_type": "execute_result"
    }
   ],
   "source": [
    "#open_new 함수는 이미 웹 브라우저가 실행된 상태이더라도 새로운 창으로 해당 주소가 열리게 한다.\n",
    "webbrowser.open_new(\"http://google.com\")"
   ]
  },
  {
   "cell_type": "code",
   "execution_count": 52,
   "metadata": {},
   "outputs": [
    {
     "name": "stdout",
     "output_type": "stream",
     "text": [
      "Start\n",
      "working:0\n",
      "\n",
      "working:1\n",
      "\n",
      "working:2\n",
      "\n",
      "working:3\n",
      "\n",
      "working:4\n",
      "\n",
      "working:0\n",
      "\n",
      "working:1\n",
      "\n",
      "working:2\n",
      "\n",
      "working:3\n",
      "\n",
      "working:4\n",
      "\n",
      "working:0\n",
      "\n",
      "working:1\n",
      "\n",
      "working:2\n",
      "\n",
      "working:3\n",
      "\n",
      "working:4\n",
      "\n",
      "working:0\n",
      "\n",
      "working:1\n",
      "\n",
      "working:2\n",
      "\n",
      "working:3\n",
      "\n",
      "working:4\n",
      "\n",
      "working:0\n",
      "\n",
      "working:1\n",
      "\n",
      "working:2\n",
      "\n",
      "working:3\n",
      "\n",
      "working:4\n",
      "\n",
      "End\n",
      "working:0\n",
      "\n",
      "working:1\n",
      "\n",
      "working:2\n",
      "\n",
      "working:3\n",
      "\n",
      "working:4\n",
      "\n"
     ]
    }
   ],
   "source": [
    "# thread_test.py\n",
    "import time\n",
    "\n",
    "def long_task():  # 5초의 시간이 걸리는 함수\n",
    "    for i in range(5):\n",
    "        time.sleep(1)  # 1초간 대기한다.\n",
    "        print(\"working:%s\\n\" % i)\n",
    "\n",
    "print(\"Start\")\n",
    "\n",
    "for i in range(5):  # long_task를 5회 수행한다.\n",
    "    long_task()\n",
    "\n",
    "print(\"End\")\n",
    "\n",
    "long_task() # 5초가 5번 반복되니 총 25초의 시간이 걸린다."
   ]
  },
  {
   "cell_type": "code",
   "execution_count": 53,
   "metadata": {},
   "outputs": [
    {
     "name": "stdout",
     "output_type": "stream",
     "text": [
      "Start\n",
      "End\n",
      "working:0\n",
      "\n",
      "working:0\n",
      "\n",
      "working:0\n",
      "\n",
      "working:0\n",
      "\n",
      "working:0\n",
      "\n",
      "working:1\n",
      "\n",
      "working:1\n",
      "\n",
      "working:1\n",
      "\n",
      "working:1\n",
      "\n",
      "working:1\n",
      "\n",
      "working:2\n",
      "\n",
      "working:2\n",
      "\n",
      "working:2\n",
      "\n",
      "working:2\n",
      "\n",
      "working:2\n",
      "\n",
      "working:3\n",
      "\n",
      "working:3\n",
      "\n",
      "working:3\n",
      "working:3\n",
      "\n",
      "\n",
      "working:3\n",
      "\n",
      "working:4\n",
      "working:4\n",
      "\n",
      "\n",
      "working:4\n",
      "\n",
      "working:4\n",
      "\n",
      "working:4\n",
      "\n"
     ]
    }
   ],
   "source": [
    "# thread_test.py\n",
    "import time\n",
    "import threading  # 스레드를 생성하기 위해서는 threading 모듈이 필요하다.\n",
    "\n",
    "def long_task():\n",
    "    for i in range(5):\n",
    "        time.sleep(1)\n",
    "        print(\"working:%s\\n\" % i)\n",
    "\n",
    "print(\"Start\")\n",
    "\n",
    "threads = []\n",
    "for i in range(5):\n",
    "    t = threading.Thread(target=long_task)  # 스레드를 생성한다.\n",
    "    threads.append(t) \n",
    "\n",
    "for t in threads:\n",
    "    t.start()  # 스레드를 실행한다.\n",
    "\n",
    "print(\"End\") #함수를 동시에 실행할 수 있으니 시간을 줄일 수 있다./ 5초 정도에 수행"
   ]
  },
  {
   "cell_type": "code",
   "execution_count": 54,
   "metadata": {},
   "outputs": [
    {
     "name": "stdout",
     "output_type": "stream",
     "text": [
      "Start\n",
      "working:0\n",
      "working:0\n",
      "\n",
      "\n",
      "working:0\n",
      "\n",
      "working:0\n",
      "\n",
      "working:0\n",
      "\n",
      "working:1\n",
      "working:1\n",
      "\n",
      "\n",
      "working:1\n",
      "working:1\n",
      "\n",
      "working:1\n",
      "\n",
      "\n",
      "working:2\n",
      "working:2\n",
      "\n",
      "\n",
      "working:2\n",
      "\n",
      "working:2\n",
      "working:2\n",
      "\n",
      "\n",
      "working:3\n",
      "working:3\n",
      "\n",
      "\n",
      "working:3\n",
      "\n",
      "working:3\n",
      "\n",
      "working:3\n",
      "\n",
      "working:4\n",
      "working:4\n",
      "\n",
      "\n",
      "working:4\n",
      "\n",
      "working:4\n",
      "\n",
      "working:4\n",
      "\n",
      "End\n"
     ]
    }
   ],
   "source": [
    "# thread_test.py\n",
    "import time\n",
    "import threading\n",
    "\n",
    "def long_task():\n",
    "    for i in range(5):\n",
    "        time.sleep(1)\n",
    "        print(\"working:%s\\n\" % i)\n",
    "\n",
    "print(\"Start\")\n",
    "\n",
    "threads = []\n",
    "for i in range(5):\n",
    "    t = threading.Thread(target=long_task)\n",
    "    threads.append(t)\n",
    "\n",
    "for t in threads:\n",
    "    t.start()\n",
    "\n",
    "for t in threads:\n",
    "    t.join()  # join으로 스레드가 종료될때까지 기다린다.\n",
    "\n",
    "print(\"End\")"
   ]
  },
  {
   "cell_type": "code",
   "execution_count": null,
   "metadata": {},
   "outputs": [],
   "source": []
  },
  {
   "cell_type": "code",
   "execution_count": null,
   "metadata": {},
   "outputs": [],
   "source": []
  },
  {
   "cell_type": "code",
   "execution_count": null,
   "metadata": {},
   "outputs": [],
   "source": []
  },
  {
   "cell_type": "code",
   "execution_count": null,
   "metadata": {},
   "outputs": [],
   "source": []
  },
  {
   "cell_type": "code",
   "execution_count": null,
   "metadata": {},
   "outputs": [],
   "source": []
  },
  {
   "cell_type": "code",
   "execution_count": null,
   "metadata": {},
   "outputs": [],
   "source": []
  },
  {
   "cell_type": "code",
   "execution_count": null,
   "metadata": {},
   "outputs": [],
   "source": []
  },
  {
   "cell_type": "code",
   "execution_count": null,
   "metadata": {},
   "outputs": [],
   "source": []
  },
  {
   "cell_type": "code",
   "execution_count": null,
   "metadata": {},
   "outputs": [],
   "source": []
  },
  {
   "cell_type": "code",
   "execution_count": null,
   "metadata": {},
   "outputs": [],
   "source": []
  },
  {
   "cell_type": "code",
   "execution_count": null,
   "metadata": {},
   "outputs": [],
   "source": []
  },
  {
   "cell_type": "code",
   "execution_count": null,
   "metadata": {},
   "outputs": [],
   "source": []
  },
  {
   "cell_type": "code",
   "execution_count": null,
   "metadata": {},
   "outputs": [],
   "source": []
  },
  {
   "cell_type": "code",
   "execution_count": null,
   "metadata": {},
   "outputs": [],
   "source": []
  },
  {
   "cell_type": "code",
   "execution_count": null,
   "metadata": {},
   "outputs": [],
   "source": []
  },
  {
   "cell_type": "code",
   "execution_count": null,
   "metadata": {},
   "outputs": [],
   "source": []
  },
  {
   "cell_type": "code",
   "execution_count": null,
   "metadata": {},
   "outputs": [],
   "source": []
  },
  {
   "cell_type": "code",
   "execution_count": null,
   "metadata": {},
   "outputs": [],
   "source": []
  },
  {
   "cell_type": "code",
   "execution_count": null,
   "metadata": {},
   "outputs": [],
   "source": []
  },
  {
   "cell_type": "code",
   "execution_count": null,
   "metadata": {},
   "outputs": [],
   "source": []
  },
  {
   "cell_type": "code",
   "execution_count": null,
   "metadata": {},
   "outputs": [],
   "source": []
  },
  {
   "cell_type": "code",
   "execution_count": null,
   "metadata": {},
   "outputs": [],
   "source": []
  },
  {
   "cell_type": "code",
   "execution_count": null,
   "metadata": {},
   "outputs": [],
   "source": []
  },
  {
   "cell_type": "code",
   "execution_count": null,
   "metadata": {},
   "outputs": [],
   "source": []
  },
  {
   "cell_type": "code",
   "execution_count": null,
   "metadata": {},
   "outputs": [],
   "source": []
  },
  {
   "cell_type": "code",
   "execution_count": null,
   "metadata": {},
   "outputs": [],
   "source": []
  },
  {
   "cell_type": "code",
   "execution_count": null,
   "metadata": {},
   "outputs": [],
   "source": []
  },
  {
   "cell_type": "code",
   "execution_count": null,
   "metadata": {},
   "outputs": [],
   "source": []
  },
  {
   "cell_type": "code",
   "execution_count": null,
   "metadata": {},
   "outputs": [],
   "source": []
  },
  {
   "cell_type": "code",
   "execution_count": null,
   "metadata": {},
   "outputs": [],
   "source": []
  },
  {
   "cell_type": "code",
   "execution_count": null,
   "metadata": {},
   "outputs": [],
   "source": []
  },
  {
   "cell_type": "code",
   "execution_count": null,
   "metadata": {},
   "outputs": [],
   "source": []
  },
  {
   "cell_type": "code",
   "execution_count": null,
   "metadata": {},
   "outputs": [],
   "source": []
  },
  {
   "cell_type": "code",
   "execution_count": null,
   "metadata": {},
   "outputs": [],
   "source": []
  },
  {
   "cell_type": "code",
   "execution_count": null,
   "metadata": {},
   "outputs": [],
   "source": []
  },
  {
   "cell_type": "code",
   "execution_count": null,
   "metadata": {},
   "outputs": [],
   "source": []
  },
  {
   "cell_type": "code",
   "execution_count": null,
   "metadata": {},
   "outputs": [],
   "source": []
  },
  {
   "cell_type": "code",
   "execution_count": null,
   "metadata": {},
   "outputs": [],
   "source": []
  },
  {
   "cell_type": "code",
   "execution_count": null,
   "metadata": {},
   "outputs": [],
   "source": []
  }
 ],
 "metadata": {
  "kernelspec": {
   "display_name": "Python 3",
   "language": "python",
   "name": "python3"
  },
  "language_info": {
   "codemirror_mode": {
    "name": "ipython",
    "version": 3
   },
   "file_extension": ".py",
   "mimetype": "text/x-python",
   "name": "python",
   "nbconvert_exporter": "python",
   "pygments_lexer": "ipython3",
   "version": "3.6.5"
  }
 },
 "nbformat": 4,
 "nbformat_minor": 2
}
