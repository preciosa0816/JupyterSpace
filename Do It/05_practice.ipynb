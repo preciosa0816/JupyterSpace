{
 "cells": [
  {
   "cell_type": "markdown",
   "metadata": {},
   "source": [
    "# 05장 연습문제"
   ]
  },
  {
   "cell_type": "markdown",
   "metadata": {},
   "source": [
    "Q1\n",
    "다음은 Calculator 클래스이다.\n",
    "\n",
    "#class Calculator:\n",
    "#_    def __init__(self):\n",
    "#_        self.value = 0\n",
    "\n",
    "#_    def add(self, val):\n",
    "#_        self.value += val\n",
    "\n",
    "위 클래스를 상속하는 UpgradeCalculator를 만들고 값을 뺄 수 있는 minus 메서드를 추가해 보자. 즉 다음과 같이 동작하는 클래스를 만들어야 한다.\n",
    "\n",
    "#cal = UpgradeCalculator()\n",
    "#cal.add(10)\n",
    "#cal.minus(7)\n",
    "\n",
    "print(cal.value) # 10에서 7을 뺀 3을 출력"
   ]
  },
  {
   "cell_type": "code",
   "execution_count": 1,
   "metadata": {},
   "outputs": [],
   "source": [
    "class Calculator:\n",
    "    def __init__(self):\n",
    "        self.value = 0\n",
    "\n",
    "    def add(self, val):\n",
    "        self.value += val"
   ]
  },
  {
   "cell_type": "code",
   "execution_count": 2,
   "metadata": {},
   "outputs": [],
   "source": [
    "class UpgradeCalculator(Calculator):\n",
    "    def minus(self,val):\n",
    "        self.value-=val"
   ]
  },
  {
   "cell_type": "code",
   "execution_count": 3,
   "metadata": {},
   "outputs": [
    {
     "name": "stdout",
     "output_type": "stream",
     "text": [
      "3\n"
     ]
    }
   ],
   "source": [
    "cal = UpgradeCalculator()\n",
    "cal.add(10)\n",
    "cal.minus(7)\n",
    "\n",
    "print(cal.value)"
   ]
  },
  {
   "cell_type": "markdown",
   "metadata": {},
   "source": [
    "Q2 객체변수 value가 100 이상의 값은 가질 수 없도록 제한하는 MaxLimitCalculator 클래스를 만들어 보자. 즉 다음과 같이 동작해야 한다."
   ]
  },
  {
   "cell_type": "code",
   "execution_count": 4,
   "metadata": {},
   "outputs": [],
   "source": [
    "class Calculator:\n",
    "    def __init__(self):\n",
    "        self.value = 0\n",
    "\n",
    "    def add(self, val):\n",
    "        self.value += val"
   ]
  },
  {
   "cell_type": "code",
   "execution_count": 5,
   "metadata": {},
   "outputs": [],
   "source": [
    "class MaxLimitCalculator(Calculator):\n",
    "    def add(self,val):\n",
    "        self.value+=val\n",
    "        if(self.value>100):\n",
    "            self.value=100"
   ]
  },
  {
   "cell_type": "code",
   "execution_count": 6,
   "metadata": {},
   "outputs": [
    {
     "name": "stdout",
     "output_type": "stream",
     "text": [
      "100\n"
     ]
    }
   ],
   "source": [
    "cal = MaxLimitCalculator()\n",
    "cal.add(50) # 50 더하기\n",
    "cal.add(60) # 60 더하기\n",
    "\n",
    "print(cal.value) # 100 출력\n",
    "#단 반드시 다음과 같은 Calculator 클래스를 상속해서 만들어야 한다."
   ]
  },
  {
   "cell_type": "markdown",
   "metadata": {},
   "source": [
    "Q3 다음 결과를 예측해 보자.\n",
    "\n",
    "all([1, 2, abs(-3)-3]) #False\n",
    "\n",
    "chr(ord('a')) == 'a' #True"
   ]
  },
  {
   "cell_type": "markdown",
   "metadata": {},
   "source": [
    "Q4 filter와 lambda를 사용하여 리스트 [1, -2, 3, -5, 8, -3]에서 음수를 모두 제거해 보자."
   ]
  },
  {
   "cell_type": "code",
   "execution_count": 10,
   "metadata": {},
   "outputs": [
    {
     "name": "stdout",
     "output_type": "stream",
     "text": [
      "[1, 3, 8]\n"
     ]
    }
   ],
   "source": [
    "print(list(filter(lambda x: x>0, [1, -2, 3, -5, 8, -3])))"
   ]
  },
  {
   "cell_type": "markdown",
   "metadata": {},
   "source": [
    "Q5 234라는 10진수의 16진수는 다음과 같이 구할 수 있다.\n",
    "\n",
    "hex(234)\n",
    "'0xea'\n",
    "\n",
    "이번에는 반대로 16진수 문자열 0xea를 10진수로 변경해 보자."
   ]
  },
  {
   "cell_type": "code",
   "execution_count": 12,
   "metadata": {},
   "outputs": [
    {
     "data": {
      "text/plain": [
       "234"
      ]
     },
     "execution_count": 12,
     "metadata": {},
     "output_type": "execute_result"
    }
   ],
   "source": [
    "int('0xea',16)"
   ]
  },
  {
   "cell_type": "markdown",
   "metadata": {},
   "source": [
    "Q6\n",
    "map과 lambda를 사용하여 [1, 2, 3, 4] 리스트의 각 요솟값에 3이 곱해진 리스트 [3, 6, 9, 12]를 만들어 보자."
   ]
  },
  {
   "cell_type": "code",
   "execution_count": 14,
   "metadata": {},
   "outputs": [
    {
     "data": {
      "text/plain": [
       "[3, 6, 9, 12]"
      ]
     },
     "execution_count": 14,
     "metadata": {},
     "output_type": "execute_result"
    }
   ],
   "source": [
    "list(map(lambda x:x*3, [1, 2, 3, 4] ))"
   ]
  },
  {
   "cell_type": "markdown",
   "metadata": {},
   "source": [
    "Q7\n",
    "다음 리스트의 최댓값과 최솟값의 합을 구해 보자.\n",
    "\n",
    "[-8, 2, 7, 5, -3, 5, 0, 1]"
   ]
  },
  {
   "cell_type": "code",
   "execution_count": null,
   "metadata": {},
   "outputs": [],
   "source": [
    "li=[-8, 2, 7, 5, -3, 5, 0, 1]\n",
    "result=max(li)+min(li)\n",
    "print(result)"
   ]
  },
  {
   "cell_type": "markdown",
   "metadata": {},
   "source": [
    "Q8\n",
    "17 / 3의 결과는 다음과 같다.\n",
    "\n",
    "17 / 3 = \n",
    "5.666666666666667\n",
    "\n",
    "위와 같은 결괏값 5.666666666666667을 소숫점 4자리까지만 반올림하여 표시해 보자."
   ]
  },
  {
   "cell_type": "code",
   "execution_count": 16,
   "metadata": {},
   "outputs": [
    {
     "name": "stdout",
     "output_type": "stream",
     "text": [
      "5.6667\n"
     ]
    }
   ],
   "source": [
    "a=17/3\n",
    "print(round(a,4))"
   ]
  },
  {
   "cell_type": "markdown",
   "metadata": {},
   "source": [
    "Q9\n",
    "다음과 같이 실행할 때 입력값을 모두 더하여 출력하는 스크립트(C:\\doit\\myargv.py)를 작성해 보자.\n",
    "\n",
    "C:\\> cd doit\n",
    "    \n",
    "C:\\doit> python myargv.py 1 2 3 4 5 6 7 8 9 10\n",
    "\n",
    "    55"
   ]
  },
  {
   "cell_type": "code",
   "execution_count": 61,
   "metadata": {},
   "outputs": [
    {
     "ename": "ValueError",
     "evalue": "invalid literal for int() with base 10: '-f'",
     "output_type": "error",
     "traceback": [
      "\u001b[1;31m---------------------------------------------------------------------------\u001b[0m",
      "\u001b[1;31mValueError\u001b[0m                                Traceback (most recent call last)",
      "\u001b[1;32m<ipython-input-61-475d9940f88c>\u001b[0m in \u001b[0;36m<module>\u001b[1;34m()\u001b[0m\n\u001b[0;32m      5\u001b[0m \u001b[0mresult\u001b[0m \u001b[1;33m=\u001b[0m \u001b[1;36m0\u001b[0m\u001b[1;33m\u001b[0m\u001b[0m\n\u001b[0;32m      6\u001b[0m \u001b[1;32mfor\u001b[0m \u001b[0mnumber\u001b[0m \u001b[1;32min\u001b[0m \u001b[0mnumbers\u001b[0m\u001b[1;33m:\u001b[0m\u001b[1;33m\u001b[0m\u001b[0m\n\u001b[1;32m----> 7\u001b[1;33m     \u001b[0mresult\u001b[0m \u001b[1;33m+=\u001b[0m \u001b[0mint\u001b[0m\u001b[1;33m(\u001b[0m\u001b[0mnumber\u001b[0m\u001b[1;33m)\u001b[0m\u001b[1;33m\u001b[0m\u001b[0m\n\u001b[0m\u001b[0;32m      8\u001b[0m \u001b[0mprint\u001b[0m\u001b[1;33m(\u001b[0m\u001b[0mresult\u001b[0m\u001b[1;33m)\u001b[0m\u001b[1;33m\u001b[0m\u001b[0m\n",
      "\u001b[1;31mValueError\u001b[0m: invalid literal for int() with base 10: '-f'"
     ]
    }
   ],
   "source": [
    "import sys\n",
    "\n",
    "numbers = sys.argv[1:] # 파일 이름을 제외한 명령 행의 모든 입력\n",
    "\n",
    "result = 0\n",
    "for number in numbers:\n",
    "    result += int(number)\n",
    "print(result)"
   ]
  },
  {
   "cell_type": "markdown",
   "metadata": {},
   "source": [
    "Q10\n",
    "os 모듈을 사용하여 다음과 같이 동작하도록 코드를 작성해 보자.\n",
    "\n",
    "C:\\doit 디렉터리로 이동한다.\n",
    "dir 명령을 실행하고 그 결과를 변수에 담는다.\n",
    "dir 명령의 결과를 출력한다."
   ]
  },
  {
   "cell_type": "code",
   "execution_count": 21,
   "metadata": {},
   "outputs": [
    {
     "name": "stdout",
     "output_type": "stream",
     "text": [
      " C 드라이브의 볼륨에는 이름이 없습니다.\n",
      " 볼륨 일련 번호: 0C41-9687\n",
      "\n",
      " C:\\JupyterSpace\\Do It 디렉터리\n",
      "\n",
      "2019-11-07  오후 04:52    <DIR>          .\n",
      "2019-11-07  오후 04:52    <DIR>          ..\n",
      "2019-11-07  오후 04:52    <DIR>          .ipynb_checkpoints\n",
      "2019-11-07  오후 04:51             9,713 05_practice.ipynb\n",
      "2019-11-07  오후 02:30                40 argv_test.py\n",
      "2019-10-29  오후 02:34                 0 ch01.txt\n",
      "2019-10-29  오후 02:46           260,467 ch01_start.html\n",
      "2019-10-29  오후 02:45             4,324 ch01_start.ipynb\n",
      "2019-10-29  오후 02:52             1,147 ch01_start.py\n",
      "2019-10-28  오후 03:57               726 ch01_start2.py\n",
      "2019-10-31  오후 04:54            77,059 ch02_datatype_variable.ipynb\n",
      "2019-10-31  오후 05:11            18,988 Ch02_practice.ipynb\n",
      "2019-10-31  오후 05:01            31,969 ch03_for_while_if.ipynb\n",
      "2019-11-04  오후 04:52            25,282 Ch04_function.ipynb\n",
      "2019-11-07  오후 04:22            84,002 Ch5_class.ipynb\n",
      "2019-10-31  오후 02:23               598 coffee.py\n",
      "2019-10-29  오후 02:33    <DIR>          dataset\n",
      "2019-11-07  오후 03:36                40 dst.txt\n",
      "2019-11-04  오후 03:19                34 foo.txt\n",
      "2019-11-05  오후 05:12    <DIR>          game\n",
      "2019-10-31  오후 02:26               280 marks1.py\n",
      "2019-11-05  오후 03:24               257 mod1.py\n",
      "2019-11-05  오후 04:37                62 modtest.py\n",
      "2019-10-29  오후 03:45                94 multistring.py\n",
      "2019-10-29  오후 03:45               662 multistring.py.ipynb\n",
      "2019-11-07  오후 04:49               100 myargv.py\n",
      "2019-11-05  오후 03:49    <DIR>          mymod\n",
      "2019-11-05  오후 04:21    <DIR>          mymod2\n",
      "2019-10-28  오후 04:16             1,135 simple.ipynb\n",
      "2019-10-28  오후 04:13               301 simple.py\n",
      "2019-11-04  오후 02:36               152 sys1.py\n",
      "2019-11-04  오후 02:40               169 sys2.py\n",
      "2019-11-06  오후 04:54                 0 test\n",
      "2019-11-07  오후 02:50                40 test.txt\n",
      "2019-11-05  오후 03:35                72 Untitled.ipynb\n",
      "2019-11-07  오후 04:50    <DIR>          __pycache__\n",
      "              28개 파일             517,713 바이트\n",
      "               8개 디렉터리  837,564,653,568 바이트 남음\n",
      "\n"
     ]
    }
   ],
   "source": [
    "import os\n",
    "os.chdir(\"C:\\JupyterSpace\\Do It\")\n",
    "os.system(\"dir\")\n",
    "f = os.popen(\"dir\")\n",
    "print(f.read())"
   ]
  },
  {
   "cell_type": "markdown",
   "metadata": {},
   "source": [
    "Q11\n",
    "glob 모듈을 사용하여 C:\\doit 디렉터리의 파일 중 확장자가 .py인 파일만 출력하는 프로그램을 작성해 보자."
   ]
  },
  {
   "cell_type": "code",
   "execution_count": 23,
   "metadata": {},
   "outputs": [
    {
     "data": {
      "text/plain": [
       "['C:\\\\JupyterSpace\\\\Do It\\\\argv_test.py',\n",
       " 'C:\\\\JupyterSpace\\\\Do It\\\\ch01_start.py',\n",
       " 'C:\\\\JupyterSpace\\\\Do It\\\\ch01_start2.py',\n",
       " 'C:\\\\JupyterSpace\\\\Do It\\\\coffee.py',\n",
       " 'C:\\\\JupyterSpace\\\\Do It\\\\marks1.py',\n",
       " 'C:\\\\JupyterSpace\\\\Do It\\\\mod1.py',\n",
       " 'C:\\\\JupyterSpace\\\\Do It\\\\modtest.py',\n",
       " 'C:\\\\JupyterSpace\\\\Do It\\\\multistring.py',\n",
       " 'C:\\\\JupyterSpace\\\\Do It\\\\myargv.py',\n",
       " 'C:\\\\JupyterSpace\\\\Do It\\\\simple.py',\n",
       " 'C:\\\\JupyterSpace\\\\Do It\\\\sys1.py',\n",
       " 'C:\\\\JupyterSpace\\\\Do It\\\\sys2.py']"
      ]
     },
     "execution_count": 23,
     "metadata": {},
     "output_type": "execute_result"
    }
   ],
   "source": [
    "import glob \n",
    "glob.glob(\"C:\\JupyterSpace\\Do It\\*.py\")"
   ]
  },
  {
   "cell_type": "markdown",
   "metadata": {},
   "source": [
    "Q12\n",
    "time 모듈을 사용하여 현재 날짜와 시간을 다음과 같은 형식으로 출력해 보자.\n",
    "\n",
    "2018/04/03 17:20:32"
   ]
  },
  {
   "cell_type": "code",
   "execution_count": 63,
   "metadata": {},
   "outputs": [
    {
     "data": {
      "text/plain": [
       "'2019/11/07 17:09:42'"
      ]
     },
     "execution_count": 63,
     "metadata": {},
     "output_type": "execute_result"
    }
   ],
   "source": [
    "import time\n",
    "time.strftime('%Y/%m/%d %X', time.localtime(time.time()))"
   ]
  },
  {
   "cell_type": "markdown",
   "metadata": {},
   "source": [
    "Q13\n",
    "random 모듈을 사용하여 로또 번호(1~45 사이의 숫자 6개)를 생성해 보자(단 중복된 숫자가 있으면 안 됨)."
   ]
  },
  {
   "cell_type": "code",
   "execution_count": 60,
   "metadata": {},
   "outputs": [
    {
     "name": "stdout",
     "output_type": "stream",
     "text": [
      "{6, 8, 42, 43, 14, 31}\n"
     ]
    }
   ],
   "source": [
    "import random\n",
    "s=set()\n",
    "while len(s)!=6:\n",
    "    a=random.randrange(1,45)\n",
    "    if(a in s):\n",
    "        a=random.randrange(1,45)\n",
    "    else:\n",
    "        s.add(a)\n",
    "print(s)"
   ]
  },
  {
   "cell_type": "code",
   "execution_count": null,
   "metadata": {},
   "outputs": [],
   "source": []
  },
  {
   "cell_type": "code",
   "execution_count": null,
   "metadata": {},
   "outputs": [],
   "source": []
  },
  {
   "cell_type": "code",
   "execution_count": null,
   "metadata": {},
   "outputs": [],
   "source": []
  },
  {
   "cell_type": "code",
   "execution_count": null,
   "metadata": {},
   "outputs": [],
   "source": []
  },
  {
   "cell_type": "code",
   "execution_count": null,
   "metadata": {},
   "outputs": [],
   "source": []
  },
  {
   "cell_type": "code",
   "execution_count": null,
   "metadata": {},
   "outputs": [],
   "source": []
  },
  {
   "cell_type": "code",
   "execution_count": null,
   "metadata": {},
   "outputs": [],
   "source": []
  },
  {
   "cell_type": "code",
   "execution_count": null,
   "metadata": {},
   "outputs": [],
   "source": []
  },
  {
   "cell_type": "code",
   "execution_count": null,
   "metadata": {},
   "outputs": [],
   "source": []
  },
  {
   "cell_type": "code",
   "execution_count": null,
   "metadata": {},
   "outputs": [],
   "source": []
  },
  {
   "cell_type": "code",
   "execution_count": null,
   "metadata": {},
   "outputs": [],
   "source": []
  }
 ],
 "metadata": {
  "kernelspec": {
   "display_name": "Python 3",
   "language": "python",
   "name": "python3"
  },
  "language_info": {
   "codemirror_mode": {
    "name": "ipython",
    "version": 3
   },
   "file_extension": ".py",
   "mimetype": "text/x-python",
   "name": "python",
   "nbconvert_exporter": "python",
   "pygments_lexer": "ipython3",
   "version": "3.6.5"
  }
 },
 "nbformat": 4,
 "nbformat_minor": 2
}
